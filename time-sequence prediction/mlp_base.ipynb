{
 "cells": [
  {
   "cell_type": "code",
   "execution_count": 1,
   "metadata": {},
   "outputs": [
    {
     "data": {
      "text/plain": [
       "'cpu'"
      ]
     },
     "execution_count": 1,
     "metadata": {},
     "output_type": "execute_result"
    }
   ],
   "source": [
    "import torch\n",
    "from torch import nn\n",
    "from torch.utils.data import DataLoader\n",
    "import matplotlib.pyplot as plt   #jupyter要matplotlib.pyplot\n",
    "import numpy as np\n",
    "import pandas as pd\n",
    "from pandas import DataFrame\n",
    "device = 'cuda:0' if torch.cuda.is_available() else \"cpu\"\n",
    "device"
   ]
  },
  {
   "cell_type": "code",
   "execution_count": 2,
   "metadata": {},
   "outputs": [],
   "source": [
    "filepath = \"train.csv\"\n",
    "train_data = pd.read_csv(filepath)\n",
    "test_data = pd.read_csv(\"test.csv\")"
   ]
  },
  {
   "cell_type": "code",
   "execution_count": 3,
   "metadata": {},
   "outputs": [],
   "source": [
    "'''将train.csv and test.csv 中的数据转化为np.array，按照原格式111*735一行一行的存入数组中'''\n",
    "def loaddata(data, rows, lines):#将每一行的各列的数据放入train_data_row中\n",
    "    data_rows=[]\n",
    "    for row in range(0,rows):\n",
    "        data_row=[]\n",
    "        for line in range(0,lines):\n",
    "            data_row.append(data[str(line)][row]) #将每一行的各列的数据放入train_data_row中\n",
    "        data_rows.append(data_row)\n",
    "    return np.array(data_rows)"
   ]
  },
  {
   "cell_type": "code",
   "execution_count": 4,
   "metadata": {},
   "outputs": [],
   "source": [
    "def normalizationdata(data):  #归一化\n",
    "    range = np.max(data) - np.min(data)\n",
    "    return (data - np.min(data)) / range"
   ]
  },
  {
   "cell_type": "code",
   "execution_count": 5,
   "metadata": {},
   "outputs": [
    {
     "data": {
      "text/plain": [
       "numpy.ndarray"
      ]
     },
     "execution_count": 5,
     "metadata": {},
     "output_type": "execute_result"
    }
   ],
   "source": [
    "'''将训练数据和测试数据的每一行都装入train_data_rows'''\n",
    "train_data_rows = loaddata(train_data, 111, 735)\n",
    "#print(train_data_rows[0])\n",
    "test_data_rows = loaddata(test_data, 111, 56)\n",
    "type(test_data_rows)"
   ]
  },
  {
   "cell_type": "code",
   "execution_count": 6,
   "metadata": {},
   "outputs": [],
   "source": [
    "'''将数据归一化处理'''\n",
    "train_data_rows_nor = normalizationdata(train_data_rows)\n",
    "test_data_rows_nor = normalizationdata(test_data_rows)\n",
    "#test_data_rows_nor[0]"
   ]
  },
  {
   "cell_type": "code",
   "execution_count": 7,
   "metadata": {},
   "outputs": [],
   "source": [
    "'''pytorch搭建一个mlp模型'''\n",
    "class NeuralNetwork(nn.Module):\n",
    "    def __init__(self):\n",
    "        super(NeuralNetwork,self).__init__()\n",
    "        self.linear_relu_stack = nn.Sequential(\n",
    "            nn.Linear(679,128),\n",
    "            nn.ReLU(),\n",
    "            nn.Linear(128,32),\n",
    "            nn.ReLU(),\n",
    "            nn.Linear(32,56)\n",
    "        )\n",
    "    #forward和init函数要对齐，否则报错NotImplementedError\n",
    "    def forward(self, x):\n",
    "        logits = self.linear_relu_stack(x)\n",
    "        return logits\n",
    "            "
   ]
  },
  {
   "cell_type": "code",
   "execution_count": 8,
   "metadata": {},
   "outputs": [
    {
     "name": "stdout",
     "output_type": "stream",
     "text": [
      "torch.Size([111, 735])\n",
      "torch.Size([111, 679])\n",
      "torch.Size([111, 56])\n"
     ]
    }
   ],
   "source": [
    "'''获取训练数据的输入和要和输出进行对比的标签'''\n",
    "training_data = torch.from_numpy(train_data_rows_nor)\n",
    "print(training_data.shape)\n",
    "\n",
    "training_data_feature = training_data[:,[range(679)]]\n",
    "#取training_data每行中的前679个训练数据,刚好能剩下56个做输出预测\n",
    "training_data_feature = training_data_feature.squeeze()\n",
    "#去除值为1的维度\n",
    "\n",
    "training_data_pred = training_data[:,[range(679,735)]]\n",
    "training_data_pred = training_data_pred.squeeze()\n",
    "\n",
    "print(training_data_feature.shape)#输入的特征\n",
    "print(training_data_pred.shape)#输出要进行比较的标签"
   ]
  },
  {
   "cell_type": "code",
   "execution_count": 9,
   "metadata": {},
   "outputs": [
    {
     "name": "stdout",
     "output_type": "stream",
     "text": [
      "tensor([[0.1397, 0.1534, 0.2143,  ..., 0.4453, 0.3245, 0.2695],\n",
      "        [0.1204, 0.1416, 0.1567,  ..., 0.2710, 0.1359, 0.1152],\n",
      "        [0.0588, 0.1500, 0.2545,  ..., 0.3463, 0.2060, 0.1893],\n",
      "        ...,\n",
      "        [0.1085, 0.1555, 0.2695,  ..., 0.3992, 0.0660, 0.1490],\n",
      "        [0.1213, 0.1103, 0.1310,  ..., 0.2618, 0.1540, 0.1137],\n",
      "        [0.0869, 0.1029, 0.1701,  ..., 0.2369, 0.1159, 0.1221]],\n",
      "       dtype=torch.float64)\n"
     ]
    }
   ],
   "source": [
    "print(training_data_feature)"
   ]
  },
  {
   "cell_type": "code",
   "execution_count": 10,
   "metadata": {},
   "outputs": [],
   "source": [
    "'''定义模型以及损失函数和优化方法'''\n",
    "model = NeuralNetwork().to(device)\n",
    "loss_MSE = nn.MSELoss()#定义损失函数为MSE\n",
    "optimizer = torch.optim.SGD(model.parameters(), lr=1e-3)"
   ]
  },
  {
   "cell_type": "code",
   "execution_count": 11,
   "metadata": {},
   "outputs": [],
   "source": [
    "'''训练函数'''\n",
    "def train(X_datas, y_datas, model, loss_mse, optimizer, epochs):\n",
    "    size = X_datas.shape[0]\n",
    "    model.train()\n",
    "\n",
    "    losses = []\n",
    "    iterations = []\n",
    "\n",
    "    for epoch in range(epochs):\n",
    "        for line in range(size):  #实验表明不一列一列直接整体梯度下降效果不太好\n",
    "            X = X_datas[line]\n",
    "            y = y_datas[line]\n",
    "            X, y = X.to(device), y.to(device)\n",
    "\n",
    "            pred = model(X)#预测值\n",
    "            loss = loss_mse(pred, y)#损失计算\n",
    "\n",
    "            optimizer.zero_grad()#后向传播\n",
    "            loss.backward()\n",
    "            optimizer.step()\n",
    "\n",
    "            loss = loss.item()\n",
    "        if epoch%100 == 0:\n",
    "            print(\"the loss of epoch \"+ str(epoch) + \" is: \" + str(loss))\n",
    "            losses.append(loss)\n",
    "            iterations.append(epoch)\n",
    "    prediction = model(X_datas.to(device))\n",
    "\n",
    "    plt.title(\"loss of epochs per 100\")\n",
    "    plt.xlabel(\"loss per 100\")\n",
    "    plt.ylabel(\"loss\")\n",
    "    plt.plot(iterations,losses)\n",
    "    plt.show()\n",
    "\n",
    "    return prediction.to('cpu')\n",
    "\n",
    "\n",
    "    \n",
    "    "
   ]
  },
  {
   "cell_type": "code",
   "execution_count": 12,
   "metadata": {},
   "outputs": [
    {
     "name": "stdout",
     "output_type": "stream",
     "text": [
      "the loss of epoch 0 is: 0.03465867415070534\n",
      "the loss of epoch 100 is: 0.005851260386407375\n",
      "the loss of epoch 200 is: 0.0010502486256882548\n",
      "the loss of epoch 300 is: 0.0008871391182765365\n",
      "the loss of epoch 400 is: 0.0009892506059259176\n"
     ]
    },
    {
     "data": {
      "image/png": "[encoded data removed]",
      "text/plain": [
       "<Figure size 432x288 with 1 Axes>"
      ]
     },
     "metadata": {
      "needs_background": "light"
     },
     "output_type": "display_data"
    }
   ],
   "source": [
    "'''以损失函数作为标准进行训练并绘制图像,并返回预测值'''\n",
    "#需要注意.to(torch.float32)用来将数据转化为一致的类型，否则报错\n",
    "prediction = train(training_data_feature.to(torch.float32), training_data_pred.to(torch.float32), model, loss_MSE, optimizer, 500)\n"
   ]
  },
  {
   "cell_type": "code",
   "execution_count": 12,
   "metadata": {},
   "outputs": [],
   "source": [
    "'''sMAPE精确度指标'''\n",
    "def sMAPE(pred, y):\n",
    "    n = pred.shape[0] * pred.shape[1]\n",
    "    sum = abs(pred-y)/(abs(pred+y)/2)\n",
    "    acc = torch.sum(sum)/n #将所有元素相加\n",
    "    return acc*100"
   ]
  },
  {
   "cell_type": "code",
   "execution_count": 13,
   "metadata": {},
   "outputs": [],
   "source": [
    "'''将归一化的数据恢复成原本的数据'''\n",
    "def reverse_normalizationdata(data,max,min):\n",
    "    range = max - min\n",
    "    return torch.mul(data, range)+min"
   ]
  },
  {
   "cell_type": "code",
   "execution_count": 14,
   "metadata": {},
   "outputs": [
    {
     "name": "stdout",
     "output_type": "stream",
     "text": [
      "sMAPE指标：25.73805048316833\n"
     ]
    }
   ],
   "source": [
    "'''计算训练集预测值和真实值之间的sMAPE指标，和MAPE的用法一样，范围[0,+∞)，MAPE 为0%表示完美模型，MAPE 大于 100 %则表示劣质模型'''\n",
    "train_max = np.max(train_data_rows)\n",
    "train_min = np.min(train_data_rows)\n",
    "\n",
    "train_max = torch.tensor(train_max)\n",
    "train_min = torch.tensor(train_min)\n",
    "\n",
    "y = reverse_normalizationdata(training_data_pred, train_max, train_min)\n",
    "pred = reverse_normalizationdata(prediction, train_max, train_min)\n",
    "\n",
    "#print(y[0])\n",
    "\n",
    "acc = sMAPE(pred, y)\n",
    "\n",
    "print(\"sMAPE指标：\"+str(acc.item())) #item可以只保留数字\n"
   ]
  },
  {
   "cell_type": "code",
   "execution_count": 15,
   "metadata": {},
   "outputs": [
    {
     "name": "stdout",
     "output_type": "stream",
     "text": [
      "sMAPE指标：28.074228184441026\n"
     ]
    }
   ],
   "source": [
    "'''对测试集和训练集预测后的值的sMAPE的计算'''\n",
    "training_data_input = training_data[:,[range(56,735)]]  #要输入的训练集中后679个数据,用于预测test集\n",
    "training_data_input = training_data_input.squeeze()\n",
    "\n",
    "testing_data = torch.tensor(test_data_rows_nor) #将归一化的测试数据转化为tensor\n",
    "\n",
    "prediction = model(training_data_input.to(torch.float32).to(device)) #用训练集后679个数据得到的预测值\n",
    "#print(pred.shape)\n",
    "\n",
    "#训练集数据最大值最小值\n",
    "train_max = np.max(train_data_rows)\n",
    "train_min = np.min(train_data_rows)\n",
    "train_max = torch.tensor(train_max)\n",
    "train_min = torch.tensor(train_min)\n",
    "\n",
    "#测试集数据最大值最小值\n",
    "test_max = np.max(test_data_rows)\n",
    "test_min = np.min(test_data_rows)\n",
    "test_max = torch.tensor(test_max)\n",
    "test_min = torch.tensor(test_min)\n",
    "\n",
    "pred = reverse_normalizationdata(prediction, train_max, train_min)   #pred代表训练集归一化后带入训练过的模型输出的预测值。并且用训练集的最大最小值进行反归一化\n",
    "y = reverse_normalizationdata(testing_data, test_max, test_min)   #y代表真实的测试数据利用测试数据的最大最小值进行反归一化\n",
    "\n",
    "acc = sMAPE(pred, y)\n",
    "\n",
    "print(\"sMAPE指标：\"+str(acc.item())) #item可以只保留数字"
   ]
  },
  {
   "cell_type": "code",
   "execution_count": 16,
   "metadata": {},
   "outputs": [
    {
     "name": "stdout",
     "output_type": "stream",
     "text": [
      "未经过训练模型计算出的sMAPE指标：1054.6111913020147\n"
     ]
    }
   ],
   "source": [
    "'''利用未训练模型来计算sMAPE，来验证训练后的模型有效性'''\n",
    "x = training_data[:,[range(56,735)]]  \n",
    "x = x.squeeze()\n",
    "\n",
    "model = NeuralNetwork().to(device)\n",
    "prediction= model(x.to(torch.float32).to(device))\n",
    "\n",
    "train_max = np.max(train_data_rows)\n",
    "train_min = np.min(train_data_rows)\n",
    "train_max = torch.tensor(train_max)\n",
    "train_min = torch.tensor(train_min)\n",
    "pred = reverse_normalizationdata(prediction, train_max, train_min)  \n",
    "\n",
    "y = torch.tensor(test_data_rows)\n",
    "\n",
    "acc = sMAPE(pred, y)\n",
    "print(\"未经过训练模型计算出的sMAPE指标：\"+str(acc.item())) "
   ]
  }
 ],
 "metadata": {
  "interpreter": {
   "hash": "ed2b4d9c6d10d022777493e9ba813f87e78014dfbcffa4a004578ae8b0a5cb2b"
  },
  "kernelspec": {
   "display_name": "Python 3.8.12 64-bit ('pytorch': conda)",
   "language": "python",
   "name": "python3"
  },
  "language_info": {
   "codemirror_mode": {
    "name": "ipython",
    "version": 3
   },
   "file_extension": ".py",
   "mimetype": "text/x-python",
   "name": "python",
   "nbconvert_exporter": "python",
   "pygments_lexer": "ipython3",
   "version": "3.8.12"
  },
  "orig_nbformat": 4
 },
 "nbformat": 4,
 "nbformat_minor": 2
}
