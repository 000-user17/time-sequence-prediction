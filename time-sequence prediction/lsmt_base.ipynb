{
 "cells": [
  {
   "cell_type": "code",
   "execution_count": 2,
   "metadata": {},
   "outputs": [
    {
     "data": {
      "text/plain": [
       "'cpu'"
      ]
     },
     "execution_count": 2,
     "metadata": {},
     "output_type": "execute_result"
    }
   ],
   "source": [
    "''' (d)【代码题】请用至少一种其它网络模块来搭建网络，并和 MLP 网络对比优缺点。'''\n",
    "import torch \n",
    "from torch import nn\n",
    "import matplotlib.pyplot as plt\n",
    "import numpy as np\n",
    "import pandas as pd\n",
    "from pandas import DataFrame\n",
    "device = 'cuda:0' if torch.cuda.is_available() else \"cpu\"\n",
    "device"
   ]
  },
  {
   "cell_type": "code",
   "execution_count": 3,
   "metadata": {},
   "outputs": [],
   "source": [
    "filepath = \"train.csv\"\n",
    "train_data = pd.read_csv(filepath)\n",
    "test_data = pd.read_csv(\"test.csv\")"
   ]
  },
  {
   "cell_type": "code",
   "execution_count": 4,
   "metadata": {},
   "outputs": [],
   "source": [
    "'''将train.csv and test.csv 中的数据转化为np.array，按照原格式81*735一行一行的存入数组中'''\n",
    "def loaddata(data, rows, lines):#将每一行的各列的数据放入train_data_row中\n",
    "    data_rows=[]\n",
    "    for row in range(0,rows):\n",
    "        data_row=[]\n",
    "        for line in range(0,lines):\n",
    "            data_row.append(data[str(line)][row]) #将每一行的各列的数据放入train_data_row中\n",
    "        data_rows.append(data_row)\n",
    "    return np.array(data_rows)"
   ]
  },
  {
   "cell_type": "code",
   "execution_count": 5,
   "metadata": {},
   "outputs": [],
   "source": [
    "def normalizationdata(data):  #归一化\n",
    "    range = np.max(data) - np.min(data)\n",
    "    return (data - np.min(data)) / range"
   ]
  },
  {
   "cell_type": "code",
   "execution_count": 6,
   "metadata": {},
   "outputs": [
    {
     "data": {
      "text/plain": [
       "numpy.ndarray"
      ]
     },
     "execution_count": 6,
     "metadata": {},
     "output_type": "execute_result"
    }
   ],
   "source": [
    "'''将训练数据和测试数据的每一行都装入train_data_rows'''\n",
    "train_data_rows = loaddata(train_data, 81, 735)  #有81行数据\n",
    "#print(train_data_rows[0])\n",
    "test_data_rows = loaddata(test_data, 81, 56)\n",
    "type(test_data_rows)"
   ]
  },
  {
   "cell_type": "code",
   "execution_count": 7,
   "metadata": {},
   "outputs": [],
   "source": [
    "'''将数据归一化处理'''\n",
    "train_data_rows_nor = normalizationdata(train_data_rows)\n",
    "test_data_rows_nor = normalizationdata(test_data_rows)\n",
    "#test_data_rows_nor[0]"
   ]
  },
  {
   "cell_type": "code",
   "execution_count": 8,
   "metadata": {},
   "outputs": [
    {
     "name": "stdout",
     "output_type": "stream",
     "text": [
      "原始数据大小torch.Size([81, 735])\n",
      "训练集中的输入数据大小:torch.Size([81, 679])\n",
      "训练集中作为标签的数据大小:torch.Size([81, 56])\n"
     ]
    }
   ],
   "source": [
    "'''设置输入步长为679，输出步长为56的情况训练，\n",
    "获取训练数据的输入和要和输出进行对比的标签\n",
    "training_data_pred为标签（即后56个值）\n",
    "training_data_feature为特征（即输入的679个值）'''\n",
    "training_data = torch.from_numpy(train_data_rows_nor)\n",
    "print(\"原始数据大小\"+str(training_data.shape))\n",
    "\n",
    "training_data_feature = training_data[:,[range(679)]]\n",
    "#取training_data每行中的前679个训练数据,刚好能剩下56个做输出预测\n",
    "training_data_feature = training_data_feature.squeeze()\n",
    "#去除值为1的维度\n",
    "\n",
    "training_data_pred = training_data[:,[range(679,735)]]\n",
    "training_data_pred = training_data_pred.squeeze()\n",
    "\n",
    "print(\"训练集中的输入数据大小:\"+str(training_data_feature.shape))#输入的特征\n",
    "print(\"训练集中作为标签的数据大小:\"+str(training_data_pred.shape))#输出要进行比较的标签形状"
   ]
  },
  {
   "cell_type": "code",
   "execution_count": 9,
   "metadata": {},
   "outputs": [],
   "source": [
    "'''建立LSTM模型'''\n",
    "class RNN(nn.Module):\n",
    "    def __init__(self, input_size = 679):\n",
    "        super(RNN,self).__init__()\n",
    "        self.input_size = input_size\n",
    "\n",
    "        self.lstm = nn.LSTM(input_size,8,2) #输入数据input_size个特征维度，8个隐藏层维度，2个LSTM串联，第二个LSTM接收第一个的计算结果\n",
    "#两个特征维度表示输入序列中的inpuge_size个数字进模型，8个隐藏层维度说明输出为8个值，2个LSTM串联表示两个LSTM堆叠起来，上一个LSTM输出的值输入到下一个LSTM中 \n",
    "\n",
    "        self.linear = nn.Linear(8,56) #线性拟合，接收数据的维度为32，输出数据的维度为56\n",
    "#线性层，即多层感知机那样的层，将LSTM6个隐藏层的输出值输入到线性层中，然后输出输出步长个值，如果要对未来56天的数据进行预测，则应该为(32,56)\n",
    "\n",
    "    def forward(self,x):\n",
    "        x1,_ = self.lstm(x)\n",
    "        #https://zhuanlan.zhihu.com/p/39191116\n",
    "        #lstm的输出有两个，output和(hn,cn)\n",
    "        #output是最后一层lstm隐藏层的输出\n",
    "        # hn,cn是所有层最后一个隐藏元和记忆元的输出\n",
    "        a,b,c = x1.shape\n",
    "        out = self.linear(x1.view(-1,c))\n",
    "        #将lstm输出的输出步长(56)个值输入到线性层中\n",
    "\n",
    "        #view(-1,c)函数将其自动调整为x1.shape[0]*c = 初始的所有元素个数\n",
    "        out1 = out.view(a,b,-1)\n",
    "        #线性层的输出调整为有多少个数据以及batch，最后一个维度(-1)是输出步长大小\n",
    "        \n",
    "        return out1"
   ]
  },
  {
   "cell_type": "code",
   "execution_count": 10,
   "metadata": {},
   "outputs": [],
   "source": [
    "'''训练函数'''\n",
    "def train(training_datas, label_datas, model, optimizer, loss_fuc, epochs = 500):\n",
    "    losses = [] \n",
    "    iter = []\n",
    "\n",
    "    for epoch in range(epochs):\n",
    "        #整体的数据输入进去，然后模型自己通过SGD进行优化\n",
    "        #所以一次循环就是对所有数据进行训练一次，即一个epoch\n",
    "        X_datas = training_datas.type(torch.float32).to(device)\n",
    "        Y_datas = label_datas.type(torch.float32).to(device)\n",
    "\n",
    "        pred = model(X_datas)\n",
    "        loss = loss_fuc(pred, Y_datas)\n",
    "\n",
    "        optimizer.zero_grad()\n",
    "        loss.backward()\n",
    "        optimizer.step()\n",
    "\n",
    "        if epoch % 100 == 0:\n",
    "            losses.append(loss.item())\n",
    "            print(\"the loss of epoch：   \" +str(epoch) + \"   is: \"+ str(loss.item()))\n",
    "            iter.append(epoch)\n",
    "    \n",
    "    #训练完毕\n",
    "    prediction = model(X_datas)\n",
    "\n",
    "    plt.title(\"loss of epoch per 100————\"+str(loss_fuc)+ \",\"+ str(epochs)+ \"epochs\")\n",
    "    plt.xlabel(\"loss per 100\")\n",
    "    plt.ylabel(\"LOSS\")\n",
    "    plt.plot(iter, losses)\n",
    "    plt.show()\n",
    "\n",
    "    return prediction.to('cpu')"
   ]
  },
  {
   "cell_type": "code",
   "execution_count": 11,
   "metadata": {},
   "outputs": [],
   "source": [
    "'''将归一化的数据恢复成原本的数据'''\n",
    "def reverse_normalizationdata(data,max,min):\n",
    "    range = max - min\n",
    "    return torch.mul(data, range)+min"
   ]
  },
  {
   "cell_type": "code",
   "execution_count": 12,
   "metadata": {},
   "outputs": [],
   "source": [
    "'''sMAPE精确度指标'''\n",
    "def sMAPE(pred, y):\n",
    "    n = pred.shape[0] * pred.shape[1] * pred.shape[2] #这里n要根据输入的不同shape进行更改，n表示矩阵一共有多少个元素\n",
    "    sum = abs(pred-y)/(abs(pred+y)/2)\n",
    "    acc = torch.sum(sum)/n #将所有元素相加\n",
    "    return acc*100"
   ]
  },
  {
   "cell_type": "code",
   "execution_count": 13,
   "metadata": {},
   "outputs": [],
   "source": [
    "'''初始化模型，定义损失函数和优化方法'''\n",
    "lstm = RNN().to(device)\n",
    "optimizer = torch.optim.Adam(lstm.parameters(),lr=0.001,betas=(0.9, 0.999),eps=1e-08,weight_decay=0.0003,amsgrad=False)\n",
    "#optimizer = torch.optim.SGD(lstm.parameters(),lr=1e-2)\n",
    "loss_mae = nn.L1Loss()\n",
    "loss_mse = nn.MSELoss()"
   ]
  },
  {
   "cell_type": "code",
   "execution_count": 14,
   "metadata": {},
   "outputs": [
    {
     "name": "stdout",
     "output_type": "stream",
     "text": [
      "the loss of epoch：   0   is: 0.12016738951206207\n",
      "the loss of epoch：   100   is: 0.01982869766652584\n",
      "the loss of epoch：   200   is: 0.007373948581516743\n",
      "the loss of epoch：   300   is: 0.005326817277818918\n",
      "the loss of epoch：   400   is: 0.003975385334342718\n",
      "the loss of epoch：   500   is: 0.0034069842658936977\n",
      "the loss of epoch：   600   is: 0.0031391610391438007\n",
      "the loss of epoch：   700   is: 0.0029973231721669436\n",
      "the loss of epoch：   800   is: 0.002923635533079505\n",
      "the loss of epoch：   900   is: 0.002879193052649498\n",
      "the loss of epoch：   1000   is: 0.0028538473416119814\n",
      "the loss of epoch：   1100   is: 0.0028344662860035896\n",
      "the loss of epoch：   1200   is: 0.0028212203178554773\n",
      "the loss of epoch：   1300   is: 0.0028099212795495987\n",
      "the loss of epoch：   1400   is: 0.002801205962896347\n",
      "the loss of epoch：   1500   is: 0.002793902065604925\n",
      "the loss of epoch：   1600   is: 0.002786872209981084\n",
      "the loss of epoch：   1700   is: 0.0028133078012615442\n",
      "the loss of epoch：   1800   is: 0.0027756299823522568\n",
      "the loss of epoch：   1900   is: 0.002797608030959964\n"
     ]
    },
    {
     "data": {
      "image/png": "[encoded data removed]",
      "text/plain": [
       "<Figure size 432x288 with 1 Axes>"
      ]
     },
     "metadata": {
      "needs_background": "light"
     },
     "output_type": "display_data"
    }
   ],
   "source": [
    "'''训练模型，根据训练集的前679个数据得到预测值'''\n",
    "prediction = train(training_data_feature.view(training_data_feature.shape[0],1,-1), training_data_pred.view(training_data_pred.shape[0],1,-1), lstm, optimizer, loss_mse, 2000)"
   ]
  },
  {
   "cell_type": "code",
   "execution_count": 33,
   "metadata": {},
   "outputs": [
    {
     "name": "stdout",
     "output_type": "stream",
     "text": [
      "torch.Size([81, 1, 1])\n"
     ]
    },
    {
     "data": {
      "text/plain": [
       "tensor(19.8531, dtype=torch.float64, grad_fn=<MulBackward0>)"
      ]
     },
     "execution_count": 33,
     "metadata": {},
     "output_type": "execute_result"
    }
   ],
   "source": [
    "'''反向归一化，然后求得训练集自身和预测值的sMAPE值'''\n",
    "train_max = np.max(train_data_rows, axis=1)  #axis=1表示求各行的最大值\n",
    "train_min = np.min(train_data_rows, axis=1)\n",
    "\n",
    "train_max_ts = torch.tensor(train_max).view(train_max.shape[0],1,-1)\n",
    "train_min_ts = torch.tensor(train_min).view(train_max.shape[0],1,-1)\n",
    "\n",
    "y = reverse_normalizationdata(training_data_pred.view(training_data_pred.shape[0],1,-1), train_max_ts, train_min_ts)\n",
    "pred = reverse_normalizationdata(prediction, train_max_ts, train_min_ts)\n",
    "#要改变y标签的维度与预测值的维度相匹配\n",
    "sMAPE(pred, y.view(training_data_pred.shape[0],1,-1))"
   ]
  }
 ],
 "metadata": {
  "interpreter": {
   "hash": "ed2b4d9c6d10d022777493e9ba813f87e78014dfbcffa4a004578ae8b0a5cb2b"
  },
  "kernelspec": {
   "display_name": "Python 3.8.12 64-bit ('pytorch': conda)",
   "language": "python",
   "name": "python3"
  },
  "language_info": {
   "codemirror_mode": {
    "name": "ipython",
    "version": 3
   },
   "file_extension": ".py",
   "mimetype": "text/x-python",
   "name": "python",
   "nbconvert_exporter": "python",
   "pygments_lexer": "ipython3",
   "version": "3.8.12"
  },
  "orig_nbformat": 4
 },
 "nbformat": 4,
 "nbformat_minor": 2
}
