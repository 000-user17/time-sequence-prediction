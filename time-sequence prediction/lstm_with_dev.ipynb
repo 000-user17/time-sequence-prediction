{
 "cells": [
  {
   "cell_type": "code",
   "execution_count": 1,
   "metadata": {},
   "outputs": [
    {
     "data": {
      "text/plain": [
       "'cuda:0'"
      ]
     },
     "execution_count": 1,
     "metadata": {},
     "output_type": "execute_result"
    }
   ],
   "source": [
    "'''将训练集中的后30个做验证集，前81个做训练集，然后探究模型自身在训练集和验证集上的效果'''\n",
    "import torch\n",
    "from torch import nn\n",
    "from torch.utils.data import DataLoader\n",
    "import matplotlib.pyplot as plt   #jupyter要matplotlib.pyplot\n",
    "import numpy as np\n",
    "import pandas as pd\n",
    "from pandas import DataFrame\n",
    "device = 'cuda:0' if torch.cuda.is_available() else \"cpu\"\n",
    "device"
   ]
  },
  {
   "cell_type": "code",
   "execution_count": 2,
   "metadata": {},
   "outputs": [],
   "source": [
    "filepath = \"train.csv\"\n",
    "train_data = pd.read_csv(filepath) #抛弃了验证集后30条序列的训练集\n",
    "dev_data = pd.read_csv(\"dev.csv\")\n",
    "\n",
    "'''将train.csv and test.csv 中的数据转化为np.array，按照原格式111*735一行一行的存入数组中'''\n",
    "def loaddata(data, rows, lines):#将每一行的各列的数据放入train_data_row中\n",
    "    data_rows=[]\n",
    "    for row in range(0,rows):\n",
    "        data_row=[]\n",
    "        for line in range(0,lines):\n",
    "            data_row.append(data[str(line)][row]) #将每一行的各列的数据放入train_data_row中\n",
    "        data_rows.append(data_row)\n",
    "    return np.array(data_rows)\n",
    "\n",
    "def normalizationdata(data):  #归一化\n",
    "    range = np.max(data) - np.min(data)\n",
    "    return (data - np.min(data)) / range\n",
    "\n",
    "'''将训练数据和测试数据的每一行都装入train_data_rows'''\n",
    "train_data_rows = loaddata(train_data, 81, 735)\n",
    "dev_data_rows = loaddata(dev_data, 30, 735)\n",
    "\n",
    "'''将数据归一化处理'''\n",
    "train_data_rows_nor = normalizationdata(train_data_rows)\n",
    "dev_data_rows_nor = normalizationdata(dev_data_rows)\n",
    "#test_data_rows_nor[0]\n",
    "\n",
    "'''\n",
    "不重叠的将每一行数据划分为输入输出对\n",
    "根据不同的输入步长num_row，输出步长output_size,将分割出来的数据放入到data_rows中\n",
    "data_rows=[训练数据(num_row)，训练数据的验证(长度为56)\n",
    "输入的数据为归一化处理过后的训练集，以及输入步长\n",
    "输入：正则化数据，输入长度，输出长度，数据的行数'''\n",
    "def input_size(data_nor, num_row, output_size, rows):#输出为定长56，而输入长度可以改变，为num_rows,\n",
    "    train_data_rows = []\n",
    "    test_data_rows = []\n",
    "\n",
    "    for row in range(0,rows):  #去掉验证集后的训练集只有81行\n",
    "        train_data_row = []\n",
    "        test_data_row = []\n",
    "        \n",
    "        count = 0\n",
    "        line = 0\n",
    "        while count + num_row + output_size - 1 < 735:\n",
    "            data_row_train = []\n",
    "            data_row_test = []\n",
    "            line = count   #不重叠的获得输入输出对，即如：1，2，3，4，5，6   获得数据为输入（1）输出（2）；输入（3）输出（4）；输入（5）输出（6）\n",
    "\n",
    "            while True:\n",
    "                if count  < line+num_row:\n",
    "                    data_row_train.append(data_nor[row][count]) #将每一行的各列的数据放入data_row_train中\n",
    "                    count += 1\n",
    "\n",
    "                elif count >= line+num_row and count<line+num_row+output_size:#如果count大于等于输入步长且小于输入加输出步长，则输入到data_row_test中\n",
    "                    data_row_test.append(data_nor[row][count])\n",
    "                    count += 1\n",
    "                \n",
    "                elif count == line+num_row+output_size: #如果输入输出步长加上起始位置超过最大列下标，则推出本行循环\n",
    "                    break\n",
    "\n",
    "            train_data_row.append(data_row_train)\n",
    "            test_data_row.append(data_row_test)\n",
    "\n",
    "        train_data_rows.append(train_data_row)\n",
    "        test_data_rows.append(test_data_row)\n",
    "\n",
    "    return np.array(train_data_rows), np.array(test_data_rows)\n",
    "    \n",
    "'''得到不同输入步长的训练集合,training_data_input_x的维度为(行数（111），每一行划分成了多少个训练样本/测试样本集合，输入步长)'''\n",
    "training_data_input_56, train_data_output_56 = input_size(train_data_rows_nor, 56, 56, 81)\n",
    "dev_data_input_56, dev_data_output_56 = input_size(dev_data_rows_nor, 56, 56, 30)\n",
    "\n",
    "training_data_input_112, train_data_output_112 = input_size(train_data_rows_nor, 112, 56, 81)\n",
    "dev_data_input_112, dev_data_output_112 = input_size(dev_data_rows_nor, 112, 56, 30)\n",
    "\n",
    "training_data_input_679, train_data_output_679 = input_size(train_data_rows_nor, 679, 56, 81)\n",
    "dev_data_input_679, dev_data_output_679 = input_size(dev_data_rows_nor, 679, 56, 30)\n",
    "\n",
    "'''将数据转化为tensor'''\n",
    "train_input_56, train_output_56 = torch.tensor(training_data_input_56), torch.tensor(train_data_output_56)\n",
    "train_input_112, train_output_112 = torch.tensor(training_data_input_112), torch.tensor(train_data_output_112)\n",
    "train_input_679, train_output_679 = torch.tensor(training_data_input_679), torch.tensor(train_data_output_679)\n",
    "\n",
    "'''将数据转化为tensor'''\n",
    "dev_input_56, dev_output_56 = torch.tensor(dev_data_input_56), torch.tensor(dev_data_output_56)\n",
    "dev_input_112, dev_output_112 = torch.tensor(dev_data_input_112), torch.tensor(dev_data_output_112)\n",
    "dev_input_679, dev_output_679 = torch.tensor(dev_data_input_679), torch.tensor(dev_data_output_679)\n",
    "\n",
    "\n"
   ]
  },
  {
   "cell_type": "markdown",
   "metadata": {},
   "source": [
    "以上是处理数据，最终得到训练集和验证集的输入和标签（输出）"
   ]
  },
  {
   "cell_type": "code",
   "execution_count": 3,
   "metadata": {},
   "outputs": [],
   "source": [
    "'''建立LSTM模型'''\n",
    "class RNN(nn.Module):\n",
    "    def __init__(self, input_size = 679):\n",
    "        super(RNN,self).__init__()\n",
    "        self.input_size = input_size\n",
    "\n",
    "        self.lstm = nn.LSTM(input_size,32,2) #输入数据input_size个特征维度，32个隐藏层维度，4个LSTM串联，第二个LSTM接收第一个的计算结果\n",
    "#两个特征维度表示输入序列中的inpuge_size个数字进模型，32个隐藏层维度说明输出为32个值，4个LSTM串联表示两个LSTM堆叠起来，上一个LSTM输出的值输入到下一个LSTM中 \n",
    "\n",
    "        self.linear = nn.Linear(32,56) #线性拟合，接收数据的维度为32，输出数据的维度为56\n",
    "#线性层，即多层感知机那样的层，将LSTM6个隐藏层的输出值输入到线性层中，然后输出输出步长个值，如果要对未来56天的数据进行预测，则应该为(32,56)\n",
    "\n",
    "    def forward(self,x):\n",
    "        x1,_ = self.lstm(x)\n",
    "        #https://zhuanlan.zhihu.com/p/39191116\n",
    "        #lstm的输出有两个，output和(hn,cn)\n",
    "        #output的时间序列行数（如果是句子就是句子个数），batch_size, 隐藏单元个数\n",
    "        #output是最后一层lstm隐藏层的输出\n",
    "        # hn,cn是所有层最后一个隐藏元和记忆元的输出\n",
    "        a,b,c = x1.shape\n",
    "        out = self.linear(x1.view(-1,c))\n",
    "        #将lstm输出的输出步长(56)个值输入到线性层中\n",
    "\n",
    "        #view(-1,c)函数将其自动调整为x1.shape[0]*c = 初始的所有元素个数\n",
    "        out1 = out.view(a,b,-1)\n",
    "        #线性层的输出调整为有多少个数据以及batch，最后一个维度(-1)是输出步长大小\n",
    "        \n",
    "        return out1"
   ]
  },
  {
   "cell_type": "code",
   "execution_count": 4,
   "metadata": {},
   "outputs": [],
   "source": [
    "'''训练函数，并且算出对训练集的sMAPE'''\n",
    "def train(training_datas, label_datas, model, optimizer, loss_fuc, input_size, epochs = 500):\n",
    "    losses = [] \n",
    "    iter = []\n",
    "\n",
    "    for epoch in range(epochs):\n",
    "        #整体的数据输入进去，然后模型自己通过SGD进行优化\n",
    "        #所以一次循环就是对所有数据进行训练一次，即一个epoch\n",
    "        X_datas = training_datas.type(torch.float32).to(device)\n",
    "        Y_datas = label_datas.type(torch.float32).to(device)\n",
    "        #因为输入的数据已经是包含三个维度的了，并且每一行的输入输出对刚好可以成为batch_size所以不用改变形状了\n",
    "\n",
    "        pred = model(X_datas)\n",
    "        loss = loss_fuc(pred, Y_datas)\n",
    "\n",
    "        optimizer.zero_grad()\n",
    "        loss.backward()\n",
    "        optimizer.step()\n",
    "\n",
    "        if epoch % 100 == 0:\n",
    "            losses.append(loss.item())\n",
    "            print(\"the loss of epoch：   \" +str(epoch) + \"   is: \"+ str(loss.item()))\n",
    "            iter.append(epoch)\n",
    "    \n",
    "    #训练完毕\n",
    "    prediction = model(X_datas[:, [X_datas.shape[1]-1], :]) #prediction为利用模型利用训练数据每行最后的输入长度个的值为输入，输出56个输出作为prediction\n",
    "    #预测值为X_datas的第2个维度的最后一个输入\n",
    "\n",
    "    plt.title(\"loss of epoch per 100————\"+str(loss_fuc)+ \",\"+ str(epochs)+ \"epochs,\"+\"input size is:\"+str(input_size))\n",
    "    plt.xlabel(\"loss per 100\")\n",
    "    plt.ylabel(\"LOSS\")\n",
    "    plt.plot(iter, losses)\n",
    "    plt.show()\n",
    "\n",
    "    return prediction.to('cpu')  #为了后续smape的计算在cpu上\n",
    "    #得到的训练集为训练数据中的输入部分的最后一个输入步长进入模型训练得到的预测值，目的是与最后对应输出数据作为标签计算sMAPE\n",
    "\n",
    "'''sMAPE精确度指标'''\n",
    "def sMAPE(pred, y):\n",
    "    n = pred.shape[0] * pred.shape[1] \n",
    "    sum = abs(pred-y)/(abs(pred+y)/2)\n",
    "    acc = torch.sum(sum)/n #将所有元素相加\n",
    "    return acc*100\n",
    "\n",
    "'''将归一化的数据恢复成原本的数据'''\n",
    "def reverse_normalizationdata(data,max,min):\n",
    "    range = max - min\n",
    "    return torch.mul(data, range)+min\n",
    "\n",
    "'''计算训练集自身预测值和输出对的标签的sMAPE指标\n",
    "输入未归一化的训练数据，预测的prediction，未归一化的测试数据以及输入长度'''\n",
    "def cal_sMAPE_train(train_data_rows, prediction, input_size):\n",
    "\n",
    "    train_max = np.max(train_data_rows, axis=1)  #axis=1表示求各行的最大值\n",
    "    train_min = np.min(train_data_rows, axis=1)\n",
    "\n",
    "    train_max_ts = torch.tensor(train_max).view(train_max.shape[0],1,-1)\n",
    "    train_min_ts = torch.tensor(train_min).view(train_max.shape[0],1,-1)\n",
    "    #上面求得了符合格式的最大值和最小值\n",
    "    pred = reverse_normalizationdata(prediction, train_max_ts, train_min_ts)#将prediction按照训练集每行相应的最大最小值反归一化\n",
    "    y = torch.tensor(train_data_rows[:,[range(679,735)]]).view(prediction.shape[0], 1, -1) #得到训练集最后的56个输出作为标签\n",
    "    #将未归一化的测试集数据转换成和prediction一样的形状\n",
    "    #将没有归一化的训练数据的每一行后56个元素当作标签\n",
    "\n",
    "\n",
    "    acc = sMAPE(pred.view(1,-1), y.view(1,-1)) #将其转化为2维的数据，sMAPE只用乘两个维度的数据算总元素个数\n",
    "\n",
    "    print(\"输入步长为\"+str(input_size)+\"的训练集/验证集上的sMAPE指标：\"+str(acc.item())) #item可以只保留数字\n",
    "\n",
    "    return acc"
   ]
  },
  {
   "cell_type": "markdown",
   "metadata": {},
   "source": [
    "以下是对训练集自身的sMAPE和损失的计算"
   ]
  },
  {
   "cell_type": "code",
   "execution_count": 22,
   "metadata": {},
   "outputs": [
    {
     "name": "stdout",
     "output_type": "stream",
     "text": [
      "the loss of epoch：   0   is: 0.07455893605947495\n",
      "the loss of epoch：   100   is: 0.06563770771026611\n",
      "the loss of epoch：   200   is: 0.05810542777180672\n",
      "the loss of epoch：   300   is: 0.05162530019879341\n",
      "the loss of epoch：   400   is: 0.04597564414143562\n",
      "the loss of epoch：   500   is: 0.041007883846759796\n",
      "the loss of epoch：   600   is: 0.03662019222974777\n",
      "the loss of epoch：   700   is: 0.03274013474583626\n",
      "the loss of epoch：   800   is: 0.029313240200281143\n",
      "the loss of epoch：   900   is: 0.026295632123947144\n",
      "the loss of epoch：   1000   is: 0.02364950440824032\n",
      "the loss of epoch：   1100   is: 0.021340468898415565\n",
      "the loss of epoch：   1200   is: 0.019336141645908356\n",
      "the loss of epoch：   1300   is: 0.017605600878596306\n",
      "the loss of epoch：   1400   is: 0.016119228675961494\n",
      "the loss of epoch：   1500   is: 0.014848882332444191\n",
      "the loss of epoch：   1600   is: 0.013768118806183338\n",
      "the loss of epoch：   1700   is: 0.012852434068918228\n",
      "the loss of epoch：   1800   is: 0.012079433538019657\n",
      "the loss of epoch：   1900   is: 0.011428938247263432\n"
     ]
    },
    {
     "data": {
      "image/png": "[encoded data removed]",
      "text/plain": [
       "<Figure size 432x288 with 1 Axes>"
      ]
     },
     "metadata": {
      "needs_background": "light"
     },
     "output_type": "display_data"
    },
    {
     "name": "stdout",
     "output_type": "stream",
     "text": [
      "输入步长为679的训练集/验证集上的sMAPE指标：75.92524033622749\n"
     ]
    }
   ],
   "source": [
    "'''sgd——mse——679'''\n",
    "lstm_679_sgd_mse = RNN(679).to(device)\n",
    "optimizer_adam = torch.optim.Adam(lstm_679_sgd_mse.parameters(),lr=0.001,betas=(0.9, 0.999),eps=1e-08,weight_decay=0.0003,amsgrad=False)\n",
    "optimizer_sgd = torch.optim.SGD(lstm_679_sgd_mse.parameters(),lr=1e-2)\n",
    "loss_mae = nn.L1Loss()\n",
    "loss_mse = nn.MSELoss()\n",
    "\n",
    "'''训练模型，根据训练集的前679个数据得到预测值，然后计算训练集的sMAPE'''\n",
    "prediction = train(train_input_679, train_output_679, lstm_679_sgd_mse, optimizer_sgd, loss_mse, 679, 2000)\n",
    "acc = cal_sMAPE_train(train_data_rows, prediction, 679)"
   ]
  },
  {
   "cell_type": "code",
   "execution_count": 23,
   "metadata": {},
   "outputs": [
    {
     "name": "stdout",
     "output_type": "stream",
     "text": [
      "the loss of epoch：   0   is: 0.21972647309303284\n",
      "the loss of epoch：   100   is: 0.19442474842071533\n",
      "the loss of epoch：   200   is: 0.17199170589447021\n",
      "the loss of epoch：   300   is: 0.15212701261043549\n",
      "the loss of epoch：   400   is: 0.1348615288734436\n",
      "the loss of epoch：   500   is: 0.12014221400022507\n",
      "the loss of epoch：   600   is: 0.10756470263004303\n",
      "the loss of epoch：   700   is: 0.09653005003929138\n",
      "the loss of epoch：   800   is: 0.08684717118740082\n",
      "the loss of epoch：   900   is: 0.07888264954090118\n",
      "the loss of epoch：   1000   is: 0.0725320428609848\n",
      "the loss of epoch：   1100   is: 0.06779229640960693\n",
      "the loss of epoch：   1200   is: 0.0646381750702858\n",
      "the loss of epoch：   1300   is: 0.06266508996486664\n",
      "the loss of epoch：   1400   is: 0.06163749843835831\n",
      "the loss of epoch：   1500   is: 0.06108367070555687\n",
      "the loss of epoch：   1600   is: 0.06078154593706131\n",
      "the loss of epoch：   1700   is: 0.0606343150138855\n",
      "the loss of epoch：   1800   is: 0.0605507493019104\n",
      "the loss of epoch：   1900   is: 0.06049412488937378\n"
     ]
    },
    {
     "data": {
      "image/png": "[encoded data removed]",
      "text/plain": [
       "<Figure size 432x288 with 1 Axes>"
      ]
     },
     "metadata": {
      "needs_background": "light"
     },
     "output_type": "display_data"
    },
    {
     "name": "stdout",
     "output_type": "stream",
     "text": [
      "输入步长为679的训练集/验证集上的sMAPE指标：62.74288495493619\n"
     ]
    }
   ],
   "source": [
    "'''sgd——mae——679'''\n",
    "lstm_679_sgd_mae = RNN(679).to(device)\n",
    "optimizer_adam = torch.optim.Adam(lstm_679_sgd_mae.parameters(),lr=0.001,betas=(0.9, 0.999),eps=1e-08,weight_decay=0.0003,amsgrad=False)\n",
    "optimizer_sgd = torch.optim.SGD(lstm_679_sgd_mae.parameters(),lr=1e-2)\n",
    "loss_mae = nn.L1Loss()\n",
    "loss_mse = nn.MSELoss()\n",
    "\n",
    "prediction = train(train_input_679, train_output_679, lstm_679_sgd_mae, optimizer_sgd, loss_mae, 679, 2000)\n",
    "acc = cal_sMAPE_train(train_data_rows, prediction, 679)"
   ]
  },
  {
   "cell_type": "code",
   "execution_count": 24,
   "metadata": {},
   "outputs": [
    {
     "name": "stdout",
     "output_type": "stream",
     "text": [
      "the loss of epoch：   0   is: 0.06269953399896622\n",
      "the loss of epoch：   100   is: 0.0051439255475997925\n",
      "the loss of epoch：   200   is: 0.00309691671282053\n",
      "the loss of epoch：   300   is: 0.0028364164754748344\n",
      "the loss of epoch：   400   is: 0.00275994255207479\n",
      "the loss of epoch：   500   is: 0.002749581588432193\n",
      "the loss of epoch：   600   is: 0.002711399458348751\n",
      "the loss of epoch：   700   is: 0.0027011011261492968\n",
      "the loss of epoch：   800   is: 0.0026941101532429457\n",
      "the loss of epoch：   900   is: 0.002688464941456914\n",
      "the loss of epoch：   1000   is: 0.00268443557433784\n",
      "the loss of epoch：   1100   is: 0.0026831054128706455\n",
      "the loss of epoch：   1200   is: 0.0026924978010356426\n",
      "the loss of epoch：   1300   is: 0.0026759086176753044\n",
      "the loss of epoch：   1400   is: 0.0026737460866570473\n",
      "the loss of epoch：   1500   is: 0.0026721563190221786\n",
      "the loss of epoch：   1600   is: 0.0026701209135353565\n",
      "the loss of epoch：   1700   is: 0.0026685979682952166\n",
      "the loss of epoch：   1800   is: 0.0026720217429101467\n",
      "the loss of epoch：   1900   is: 0.0026680747978389263\n"
     ]
    },
    {
     "data": {
      "image/png": "[encoded data removed]",
      "text/plain": [
       "<Figure size 432x288 with 1 Axes>"
      ]
     },
     "metadata": {
      "needs_background": "light"
     },
     "output_type": "display_data"
    },
    {
     "name": "stdout",
     "output_type": "stream",
     "text": [
      "输入步长为679的训练集/验证集上的sMAPE指标：60.40515129697035\n"
     ]
    }
   ],
   "source": [
    "'''adam——mse——679'''\n",
    "lstm_679_adam_mse = RNN(679).to(device)\n",
    "optimizer_adam = torch.optim.Adam(lstm_679_adam_mse.parameters(),lr=0.001,betas=(0.9, 0.999),eps=1e-08,weight_decay=0.0003,amsgrad=False)\n",
    "optimizer_sgd = torch.optim.SGD(lstm_679_adam_mse.parameters(),lr=1e-2)\n",
    "loss_mae = nn.L1Loss()\n",
    "loss_mse = nn.MSELoss()\n",
    "\n",
    "prediction = train(train_input_679, train_output_679, lstm_679_adam_mse, optimizer_adam, loss_mse, 679, 2000)\n",
    "acc = cal_sMAPE_train(train_data_rows, prediction, 679)"
   ]
  },
  {
   "cell_type": "code",
   "execution_count": 25,
   "metadata": {},
   "outputs": [
    {
     "name": "stdout",
     "output_type": "stream",
     "text": [
      "the loss of epoch：   0   is: 0.06206181272864342\n",
      "the loss of epoch：   100   is: 0.05658714845776558\n",
      "the loss of epoch：   200   is: 0.051773443818092346\n",
      "the loss of epoch：   300   is: 0.04751182347536087\n",
      "the loss of epoch：   400   is: 0.04371751844882965\n",
      "the loss of epoch：   500   is: 0.04032345488667488\n",
      "the loss of epoch：   600   is: 0.0372757725417614\n",
      "the loss of epoch：   700   is: 0.034530602395534515\n",
      "the loss of epoch：   800   is: 0.03205173835158348\n",
      "the loss of epoch：   900   is: 0.029808908700942993\n",
      "the loss of epoch：   1000   is: 0.02777649275958538\n",
      "the loss of epoch：   1100   is: 0.02593257836997509\n",
      "the loss of epoch：   1200   is: 0.02425823174417019\n",
      "the loss of epoch：   1300   is: 0.022736920043826103\n",
      "the loss of epoch：   1400   is: 0.02135412208735943\n",
      "the loss of epoch：   1500   is: 0.020096946507692337\n",
      "the loss of epoch：   1600   is: 0.01895391196012497\n",
      "the loss of epoch：   1700   is: 0.017914704978466034\n",
      "the loss of epoch：   1800   is: 0.01697004772722721\n",
      "the loss of epoch：   1900   is: 0.016111532226204872\n"
     ]
    },
    {
     "data": {
      "image/png": "[encoded data removed]",
      "text/plain": [
       "<Figure size 432x288 with 1 Axes>"
      ]
     },
     "metadata": {
      "needs_background": "light"
     },
     "output_type": "display_data"
    },
    {
     "name": "stdout",
     "output_type": "stream",
     "text": [
      "输入步长为112的训练集/验证集上的sMAPE指标：99.95504439419128\n"
     ]
    }
   ],
   "source": [
    "'''sgd——mse——112'''\n",
    "lstm_112_sgd_mse = RNN(112).to(device)\n",
    "optimizer_adam = torch.optim.Adam(lstm_112_sgd_mse.parameters(),lr=0.001,betas=(0.9, 0.999),eps=1e-08,weight_decay=0.0003,amsgrad=False)\n",
    "optimizer_sgd = torch.optim.SGD(lstm_112_sgd_mse.parameters(),lr=1e-2)\n",
    "loss_mae = nn.L1Loss()\n",
    "loss_mse = nn.MSELoss()\n",
    "\n",
    "prediction = train(train_input_112, train_output_112, lstm_112_sgd_mse, optimizer_sgd, loss_mse, 112, 2000)\n",
    "acc = cal_sMAPE_train(train_data_rows, prediction, 112)"
   ]
  },
  {
   "cell_type": "code",
   "execution_count": 26,
   "metadata": {},
   "outputs": [
    {
     "name": "stdout",
     "output_type": "stream",
     "text": [
      "the loss of epoch：   0   is: 0.1861419826745987\n",
      "the loss of epoch：   100   is: 0.1680230349302292\n",
      "the loss of epoch：   200   is: 0.15135031938552856\n",
      "the loss of epoch：   300   is: 0.13602964580059052\n",
      "the loss of epoch：   400   is: 0.12210798263549805\n",
      "the loss of epoch：   500   is: 0.10981887578964233\n",
      "the loss of epoch：   600   is: 0.09912072867155075\n",
      "the loss of epoch：   700   is: 0.09030016511678696\n",
      "the loss of epoch：   800   is: 0.08325088769197464\n",
      "the loss of epoch：   900   is: 0.07774869352579117\n",
      "the loss of epoch：   1000   is: 0.07354728132486343\n",
      "the loss of epoch：   1100   is: 0.07053586095571518\n",
      "the loss of epoch：   1200   is: 0.06838255375623703\n",
      "the loss of epoch：   1300   is: 0.06688708066940308\n",
      "the loss of epoch：   1400   is: 0.06580784171819687\n",
      "the loss of epoch：   1500   is: 0.06502169370651245\n",
      "the loss of epoch：   1600   is: 0.06452124565839767\n",
      "the loss of epoch：   1700   is: 0.06421306729316711\n",
      "the loss of epoch：   1800   is: 0.06400857865810394\n",
      "the loss of epoch：   1900   is: 0.06386593729257584\n"
     ]
    },
    {
     "data": {
      "image/png": "[encoded data removed]",
      "text/plain": [
       "<Figure size 432x288 with 1 Axes>"
      ]
     },
     "metadata": {
      "needs_background": "light"
     },
     "output_type": "display_data"
    },
    {
     "name": "stdout",
     "output_type": "stream",
     "text": [
      "输入步长为112的训练集/验证集上的sMAPE指标：64.7648080051696\n"
     ]
    }
   ],
   "source": [
    "'''sgd——mae——112'''\n",
    "lstm_112_sgd_mae = RNN(112).to(device)\n",
    "optimizer_adam = torch.optim.Adam(lstm_112_sgd_mae.parameters(),lr=0.001,betas=(0.9, 0.999),eps=1e-08,weight_decay=0.0003,amsgrad=False)\n",
    "optimizer_sgd = torch.optim.SGD(lstm_112_sgd_mae.parameters(),lr=1e-2)\n",
    "loss_mae = nn.L1Loss()\n",
    "loss_mse = nn.MSELoss()\n",
    "\n",
    "prediction = train(train_input_112, train_output_112, lstm_112_sgd_mae, optimizer_sgd, loss_mae, 112, 2000)\n",
    "acc = cal_sMAPE_train(train_data_rows, prediction, 112)"
   ]
  },
  {
   "cell_type": "code",
   "execution_count": 28,
   "metadata": {},
   "outputs": [
    {
     "name": "stdout",
     "output_type": "stream",
     "text": [
      "the loss of epoch：   0   is: 0.05767542123794556\n",
      "the loss of epoch：   100   is: 0.007882297970354557\n",
      "the loss of epoch：   200   is: 0.006597958039492369\n",
      "the loss of epoch：   300   is: 0.005035987123847008\n",
      "the loss of epoch：   400   is: 0.004051286727190018\n",
      "the loss of epoch：   500   is: 0.003390165977180004\n",
      "the loss of epoch：   600   is: 0.0033117637503892183\n",
      "the loss of epoch：   700   is: 0.003211599076166749\n",
      "the loss of epoch：   800   is: 0.0031815730035305023\n",
      "the loss of epoch：   900   is: 0.003180714789777994\n",
      "the loss of epoch：   1000   is: 0.0031835010740906\n",
      "the loss of epoch：   1100   is: 0.0031854240223765373\n",
      "the loss of epoch：   1200   is: 0.003185846609994769\n",
      "the loss of epoch：   1300   is: 0.003185091307386756\n",
      "the loss of epoch：   1400   is: 0.0031835122499614954\n",
      "the loss of epoch：   1500   is: 0.0031814828980714083\n",
      "the loss of epoch：   1600   is: 0.0031799289863556623\n",
      "the loss of epoch：   1700   is: 0.003175948513671756\n",
      "the loss of epoch：   1800   is: 0.00317786680534482\n",
      "the loss of epoch：   1900   is: 0.003170216456055641\n"
     ]
    },
    {
     "data": {
      "image/png": "[encoded data removed]",
      "text/plain": [
       "<Figure size 432x288 with 1 Axes>"
      ]
     },
     "metadata": {
      "needs_background": "light"
     },
     "output_type": "display_data"
    },
    {
     "name": "stdout",
     "output_type": "stream",
     "text": [
      "输入步长为112的训练集/验证集上的sMAPE指标：61.32147504022524\n"
     ]
    }
   ],
   "source": [
    "'''adam——mse——112'''\n",
    "lstm_112_adam_mse = RNN(112).to(device)\n",
    "optimizer_adam = torch.optim.Adam(lstm_112_adam_mse.parameters(),lr=0.001,betas=(0.9, 0.999),eps=1e-08,weight_decay=0.0003,amsgrad=False)\n",
    "optimizer_sgd = torch.optim.SGD(lstm_112_adam_mse.parameters(),lr=1e-2)\n",
    "loss_mae = nn.L1Loss()\n",
    "loss_mse = nn.MSELoss()\n",
    "\n",
    "prediction = train(train_input_112, train_output_112, lstm_112_adam_mse, optimizer_adam, loss_mse, 112, 2000)\n",
    "acc = cal_sMAPE_train(train_data_rows, prediction, 112)"
   ]
  },
  {
   "cell_type": "code",
   "execution_count": 27,
   "metadata": {},
   "outputs": [
    {
     "name": "stdout",
     "output_type": "stream",
     "text": [
      "the loss of epoch：   0   is: 0.05976476892828941\n",
      "the loss of epoch：   100   is: 0.054655931890010834\n",
      "the loss of epoch：   200   is: 0.0501018725335598\n",
      "the loss of epoch：   300   is: 0.046022929251194\n",
      "the loss of epoch：   400   is: 0.042355455458164215\n",
      "the loss of epoch：   500   is: 0.039047833532094955\n",
      "the loss of epoch：   600   is: 0.03605763614177704\n",
      "the loss of epoch：   700   is: 0.033349499106407166\n",
      "the loss of epoch：   800   is: 0.030893588438630104\n",
      "the loss of epoch：   900   is: 0.028664397075772285\n",
      "the loss of epoch：   1000   is: 0.026639889925718307\n",
      "the loss of epoch：   1100   is: 0.02480081096291542\n",
      "the loss of epoch：   1200   is: 0.023130176588892937\n",
      "the loss of epoch：   1300   is: 0.021612871438264847\n",
      "the loss of epoch：   1400   is: 0.0202353335916996\n",
      "the loss of epoch：   1500   is: 0.018985318019986153\n",
      "the loss of epoch：   1600   is: 0.017851708456873894\n",
      "the loss of epoch：   1700   is: 0.016824377700686455\n",
      "the loss of epoch：   1800   is: 0.015894049778580666\n",
      "the loss of epoch：   1900   is: 0.01505222450941801\n"
     ]
    },
    {
     "data": {
      "image/png": "[encoded data removed]",
      "text/plain": [
       "<Figure size 432x288 with 1 Axes>"
      ]
     },
     "metadata": {
      "needs_background": "light"
     },
     "output_type": "display_data"
    },
    {
     "name": "stdout",
     "output_type": "stream",
     "text": [
      "输入步长为56的训练集/验证集上的sMAPE指标：95.98402748028373\n"
     ]
    }
   ],
   "source": [
    "'''sgd——mse——56'''\n",
    "lstm_56_sgd_mse = RNN(56).to(device)\n",
    "optimizer_adam = torch.optim.Adam(lstm_56_sgd_mse.parameters(),lr=0.001,betas=(0.9, 0.999),eps=1e-08,weight_decay=0.0003,amsgrad=False)\n",
    "optimizer_sgd = torch.optim.SGD(lstm_56_sgd_mse.parameters(),lr=1e-2)\n",
    "loss_mae = nn.L1Loss()\n",
    "loss_mse = nn.MSELoss()\n",
    "\n",
    "'''训练模型，根据训练集的前679个数据得到预测值，然后计算训练集的sMAPE'''\n",
    "prediction = train(train_input_56, train_output_56, lstm_56_sgd_mse, optimizer_sgd, loss_mse, 56, 2000)\n",
    "acc = cal_sMAPE_train(train_data_rows, prediction, 56)"
   ]
  },
  {
   "cell_type": "code",
   "execution_count": 29,
   "metadata": {},
   "outputs": [
    {
     "name": "stdout",
     "output_type": "stream",
     "text": [
      "the loss of epoch：   0   is: 0.1871212124824524\n",
      "the loss of epoch：   100   is: 0.17052040994167328\n",
      "the loss of epoch：   200   is: 0.15503491461277008\n",
      "the loss of epoch：   300   is: 0.14050519466400146\n",
      "the loss of epoch：   400   is: 0.12698350846767426\n",
      "the loss of epoch：   500   is: 0.11465923488140106\n",
      "the loss of epoch：   600   is: 0.10365138947963715\n",
      "the loss of epoch：   700   is: 0.09406547248363495\n",
      "the loss of epoch：   800   is: 0.08598829805850983\n",
      "the loss of epoch：   900   is: 0.0793766900897026\n",
      "the loss of epoch：   1000   is: 0.07422240078449249\n",
      "the loss of epoch：   1100   is: 0.07034957408905029\n",
      "the loss of epoch：   1200   is: 0.0675702840089798\n",
      "the loss of epoch：   1300   is: 0.06562960892915726\n",
      "the loss of epoch：   1400   is: 0.06431175023317337\n",
      "the loss of epoch：   1500   is: 0.06344465166330338\n",
      "the loss of epoch：   1600   is: 0.06289037317037582\n",
      "the loss of epoch：   1700   is: 0.0625319853425026\n",
      "the loss of epoch：   1800   is: 0.06230970844626427\n",
      "the loss of epoch：   1900   is: 0.062166471034288406\n"
     ]
    },
    {
     "data": {
      "image/png": "[encoded data removed]",
      "text/plain": [
       "<Figure size 432x288 with 1 Axes>"
      ]
     },
     "metadata": {
      "needs_background": "light"
     },
     "output_type": "display_data"
    },
    {
     "name": "stdout",
     "output_type": "stream",
     "text": [
      "输入步长为56的训练集/验证集上的sMAPE指标：64.55246960696516\n"
     ]
    }
   ],
   "source": [
    "'''sgd——mae——56'''\n",
    "lstm_56_sgd_mae = RNN(56).to(device)\n",
    "optimizer_adam = torch.optim.Adam(lstm_56_sgd_mae.parameters(),lr=0.001,betas=(0.9, 0.999),eps=1e-08,weight_decay=0.0003,amsgrad=False)\n",
    "optimizer_sgd = torch.optim.SGD(lstm_56_sgd_mae.parameters(),lr=1e-2)\n",
    "loss_mae = nn.L1Loss()\n",
    "loss_mse = nn.MSELoss()\n",
    "\n",
    "'''训练模型，根据训练集的前679个数据得到预测值，然后计算训练集的sMAPE'''\n",
    "prediction = train(train_input_56, train_output_56, lstm_56_sgd_mae, optimizer_sgd, loss_mae, 56, 2000)\n",
    "acc = cal_sMAPE_train(train_data_rows, prediction, 56)"
   ]
  },
  {
   "cell_type": "code",
   "execution_count": 30,
   "metadata": {},
   "outputs": [
    {
     "name": "stdout",
     "output_type": "stream",
     "text": [
      "the loss of epoch：   0   is: 0.051267269998788834\n",
      "the loss of epoch：   100   is: 0.007571266498416662\n",
      "the loss of epoch：   200   is: 0.006863871589303017\n",
      "the loss of epoch：   300   is: 0.0052582500502467155\n",
      "the loss of epoch：   400   is: 0.004388169385492802\n",
      "the loss of epoch：   500   is: 0.004268696065992117\n",
      "the loss of epoch：   600   is: 0.004229058977216482\n",
      "the loss of epoch：   700   is: 0.004210238344967365\n",
      "the loss of epoch：   800   is: 0.004199610557407141\n",
      "the loss of epoch：   900   is: 0.004193840082734823\n",
      "the loss of epoch：   1000   is: 0.004191053565591574\n",
      "the loss of epoch：   1100   is: 0.00418891804292798\n",
      "the loss of epoch：   1200   is: 0.004186117555946112\n",
      "the loss of epoch：   1300   is: 0.0041826036758720875\n",
      "the loss of epoch：   1400   is: 0.004178592469543219\n",
      "the loss of epoch：   1500   is: 0.004174534697085619\n",
      "the loss of epoch：   1600   is: 0.0041705528274178505\n",
      "the loss of epoch：   1700   is: 0.0041672769002616405\n",
      "the loss of epoch：   1800   is: 0.004163460806012154\n",
      "the loss of epoch：   1900   is: 0.00416037579998374\n"
     ]
    },
    {
     "data": {
      "image/png": "[encoded data removed]",
      "text/plain": [
       "<Figure size 432x288 with 1 Axes>"
      ]
     },
     "metadata": {
      "needs_background": "light"
     },
     "output_type": "display_data"
    },
    {
     "name": "stdout",
     "output_type": "stream",
     "text": [
      "输入步长为56的训练集/验证集上的sMAPE指标：58.16198057800281\n"
     ]
    }
   ],
   "source": [
    "'''adam——mse——56'''\n",
    "lstm_56_adam_mse = RNN(56).to(device)\n",
    "optimizer_adam = torch.optim.Adam(lstm_56_adam_mse.parameters(),lr=0.001,betas=(0.9, 0.999),eps=1e-08,weight_decay=0.0003,amsgrad=False)\n",
    "optimizer_sgd = torch.optim.SGD(lstm_56_adam_mse.parameters(),lr=1e-2)\n",
    "loss_mae = nn.L1Loss()\n",
    "loss_mse = nn.MSELoss()\n",
    "\n",
    "'''训练模型，根据训练集的前679个数据得到预测值，然后计算训练集的sMAPE'''\n",
    "prediction = train(train_input_56, train_output_56, lstm_56_adam_mse, optimizer_adam, loss_mse, 56, 2000)\n",
    "acc = cal_sMAPE_train(train_data_rows, prediction, 56)"
   ]
  },
  {
   "cell_type": "markdown",
   "metadata": {},
   "source": [
    "以下是对验证集的sMAPE指标计算"
   ]
  },
  {
   "cell_type": "code",
   "execution_count": 31,
   "metadata": {},
   "outputs": [
    {
     "name": "stdout",
     "output_type": "stream",
     "text": [
      "输入步长为56的训练集/验证集上的sMAPE指标：92.69592452847762\n"
     ]
    }
   ],
   "source": [
    "'''sgd——mse——56'''\n",
    "input = dev_input_56[:, [dev_input_56.shape[1]-1], :].to(torch.float32).to(device)#取验证集输入数据的最后一个批次进行预测\n",
    "prediction = lstm_56_sgd_mse(input).to('cpu') #计算精度数据回到cpu上\n",
    "acc = cal_sMAPE_train(dev_data_rows, prediction, 56)"
   ]
  },
  {
   "cell_type": "code",
   "execution_count": 32,
   "metadata": {},
   "outputs": [
    {
     "name": "stdout",
     "output_type": "stream",
     "text": [
      "输入步长为56的训练集/验证集上的sMAPE指标：59.53005247638973\n"
     ]
    }
   ],
   "source": [
    "'''sgd——mae——56'''\n",
    "input = dev_input_56[:, [dev_input_56.shape[1]-1], :].to(torch.float32).to(device)#取验证集输入数据的最后一个批次进行预测\n",
    "prediction = lstm_56_sgd_mae(input).to('cpu')\n",
    "acc = cal_sMAPE_train(dev_data_rows, prediction, 56)"
   ]
  },
  {
   "cell_type": "code",
   "execution_count": 33,
   "metadata": {},
   "outputs": [
    {
     "name": "stdout",
     "output_type": "stream",
     "text": [
      "输入步长为56的训练集/验证集上的sMAPE指标：47.601929996697805\n"
     ]
    }
   ],
   "source": [
    "'''adam——mse——56'''\n",
    "input = dev_input_56[:, [dev_input_56.shape[1]-1], :].to(torch.float32).to(device)#取验证集输入数据的最后一个批次进行预测\n",
    "prediction = lstm_56_adam_mse(input).to('cpu')\n",
    "acc = cal_sMAPE_train(dev_data_rows, prediction, 56)"
   ]
  },
  {
   "cell_type": "code",
   "execution_count": 34,
   "metadata": {},
   "outputs": [
    {
     "name": "stdout",
     "output_type": "stream",
     "text": [
      "输入步长为112的训练集/验证集上的sMAPE指标：96.72883156242048\n"
     ]
    }
   ],
   "source": [
    "'''sgd——mse——112'''\n",
    "input = dev_input_112[:, [dev_input_112.shape[1]-1], :].to(torch.float32).to(device)#取验证集输入数据的最后一个批次进行预测\n",
    "prediction = lstm_112_sgd_mse(input).to('cpu') #计算精度数据回到cpu上\n",
    "acc = cal_sMAPE_train(dev_data_rows, prediction, 112)"
   ]
  },
  {
   "cell_type": "code",
   "execution_count": 35,
   "metadata": {},
   "outputs": [
    {
     "name": "stdout",
     "output_type": "stream",
     "text": [
      "输入步长为112的训练集/验证集上的sMAPE指标：59.92738108623055\n"
     ]
    }
   ],
   "source": [
    "'''sgd——mae——112'''\n",
    "input = dev_input_112[:, [dev_input_112.shape[1]-1], :].to(torch.float32).to(device)#取验证集输入数据的最后一个批次进行预测\n",
    "prediction = lstm_112_sgd_mae(input).to('cpu') #计算精度数据回到cpu上\n",
    "acc = cal_sMAPE_train(dev_data_rows, prediction, 112)"
   ]
  },
  {
   "cell_type": "code",
   "execution_count": 36,
   "metadata": {},
   "outputs": [
    {
     "name": "stdout",
     "output_type": "stream",
     "text": [
      "输入步长为112的训练集/验证集上的sMAPE指标：50.834736206032446\n"
     ]
    }
   ],
   "source": [
    "'''adam——mse——112'''\n",
    "input = dev_input_112[:, [dev_input_112.shape[1]-1], :].to(torch.float32).to(device)#取验证集输入数据的最后一个批次进行预测\n",
    "prediction = lstm_112_adam_mse(input).to('cpu') #计算精度数据回到cpu上\n",
    "acc = cal_sMAPE_train(dev_data_rows, prediction, 112)"
   ]
  },
  {
   "cell_type": "code",
   "execution_count": 37,
   "metadata": {},
   "outputs": [
    {
     "name": "stdout",
     "output_type": "stream",
     "text": [
      "输入步长为679的训练集/验证集上的sMAPE指标：73.37111356661732\n"
     ]
    }
   ],
   "source": [
    "'''sgd——mse——679'''\n",
    "input = dev_input_679[:, [dev_input_679.shape[1]-1], :].to(torch.float32).to(device)#取验证集输入数据的最后一个批次进行预测\n",
    "prediction = lstm_679_sgd_mse(input).to('cpu') #计算精度数据回到cpu上\n",
    "acc = cal_sMAPE_train(dev_data_rows, prediction, 679)"
   ]
  },
  {
   "cell_type": "code",
   "execution_count": 38,
   "metadata": {},
   "outputs": [
    {
     "name": "stdout",
     "output_type": "stream",
     "text": [
      "输入步长为679的训练集/验证集上的sMAPE指标：57.917027599483475\n"
     ]
    }
   ],
   "source": [
    "'''sgd——mae——679'''\n",
    "input = dev_input_679[:, [dev_input_679.shape[1]-1], :].to(torch.float32).to(device)#取验证集输入数据的最后一个批次进行预测\n",
    "prediction = lstm_679_sgd_mae(input).to('cpu') #计算精度数据回到cpu上\n",
    "acc = cal_sMAPE_train(dev_data_rows, prediction, 679)"
   ]
  },
  {
   "cell_type": "code",
   "execution_count": 39,
   "metadata": {},
   "outputs": [
    {
     "name": "stdout",
     "output_type": "stream",
     "text": [
      "输入步长为679的训练集/验证集上的sMAPE指标：52.447627590913456\n"
     ]
    }
   ],
   "source": [
    "'''sgd——mse——679'''\n",
    "input = dev_input_679[:, [dev_input_679.shape[1]-1], :].to(torch.float32).to(device)#取验证集输入数据的最后一个批次进行预测\n",
    "prediction = lstm_679_adam_mse(input).to('cpu') #计算精度数据回到cpu上\n",
    "acc = cal_sMAPE_train(dev_data_rows, prediction, 679)"
   ]
  }
 ],
 "metadata": {
  "interpreter": {
   "hash": "51aeaaa6daebc08988689763a3ac20414fe81410c82edd7fb19e44dddcd7fa9b"
  },
  "kernelspec": {
   "display_name": "Python 3.7.0 64-bit ('py3.7torch1.4': conda)",
   "language": "python",
   "name": "python3"
  },
  "language_info": {
   "codemirror_mode": {
    "name": "ipython",
    "version": 3
   },
   "file_extension": ".py",
   "mimetype": "text/x-python",
   "name": "python",
   "nbconvert_exporter": "python",
   "pygments_lexer": "ipython3",
   "version": "3.7.0"
  },
  "orig_nbformat": 4
 },
 "nbformat": 4,
 "nbformat_minor": 2
}
