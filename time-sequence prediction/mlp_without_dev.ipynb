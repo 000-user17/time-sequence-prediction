{
 "cells": [
  {
   "cell_type": "code",
   "execution_count": 65,
   "metadata": {},
   "outputs": [
    {
     "data": {
      "text/plain": [
       "'cpu'"
      ]
     },
     "execution_count": 65,
     "metadata": {},
     "output_type": "execute_result"
    }
   ],
   "source": [
    "'''不将训练集划分为验证集，直接利用整体训练集训练的模型测试在测试集上的效果'''\n",
    "import torch\n",
    "from torch import nn\n",
    "from torch.utils.data import DataLoader\n",
    "import matplotlib.pyplot as plt   #jupyter要matplotlib.pyplot\n",
    "import numpy as np\n",
    "import pandas as pd\n",
    "from pandas import DataFrame\n",
    "device = 'cuda 0' if torch.cuda.is_available() else \"cpu\"\n",
    "device"
   ]
  },
  {
   "cell_type": "code",
   "execution_count": 66,
   "metadata": {},
   "outputs": [],
   "source": [
    "filepath = \"train_all.csv\"\n",
    "train_data = pd.read_csv(filepath)\n",
    "test_data = pd.read_csv(\"test.csv\")"
   ]
  },
  {
   "cell_type": "code",
   "execution_count": 67,
   "metadata": {},
   "outputs": [],
   "source": [
    "'''将train.csv and test.csv 中的数据转化为np.array，按照原格式111*735一行一行的存入数组中'''\n",
    "def loaddata(data, rows, lines):#将每一行的各列的数据放入train_data_row中\n",
    "    data_rows=[]\n",
    "    for row in range(0,rows):\n",
    "        data_row=[]\n",
    "        for line in range(0,lines):\n",
    "            data_row.append(data[str(line)][row]) #将每一行的各列的数据放入train_data_row中\n",
    "        data_rows.append(data_row)\n",
    "    return np.array(data_rows)"
   ]
  },
  {
   "cell_type": "code",
   "execution_count": 68,
   "metadata": {},
   "outputs": [],
   "source": [
    "def normalizationdata(data):  #归一化\n",
    "    range = np.max(data) - np.min(data)\n",
    "    return (data - np.min(data)) / range"
   ]
  },
  {
   "cell_type": "code",
   "execution_count": 69,
   "metadata": {},
   "outputs": [
    {
     "data": {
      "text/plain": [
       "numpy.ndarray"
      ]
     },
     "execution_count": 69,
     "metadata": {},
     "output_type": "execute_result"
    }
   ],
   "source": [
    "'''将训练数据和测试数据的每一行都装入train_data_rows'''\n",
    "train_data_rows = loaddata(train_data, 111, 735)\n",
    "#print(train_data_rows[0])\n",
    "test_data_rows = loaddata(test_data, 111, 56)\n",
    "type(test_data_rows)"
   ]
  },
  {
   "cell_type": "code",
   "execution_count": 70,
   "metadata": {},
   "outputs": [],
   "source": [
    "'''将数据归一化处理'''\n",
    "train_data_rows_nor = normalizationdata(train_data_rows)\n",
    "test_data_rows_nor = normalizationdata(test_data_rows)\n",
    "#test_data_rows_nor[0]"
   ]
  },
  {
   "cell_type": "code",
   "execution_count": 71,
   "metadata": {},
   "outputs": [],
   "source": [
    "'''根据不同的输入步长num_row，将分割出来的数据放入到data_rows中\n",
    "data_rows=[训练数据(num_row)，训练数据的验证(长度为56)]\n",
    "输入的数据为归一化处理过后的训练集，以及输入步长'''\n",
    "def input_size(data_nor, num_row):#输出为定长56，而输入长度可以改变，为num_rows\n",
    "    train_data_rows = []\n",
    "    test_data_rows = []\n",
    "\n",
    "    for row in range(0,111):\n",
    "        train_data_row = []\n",
    "        test_data_row = []\n",
    "        for line in range(0,735):\n",
    "            count=line\n",
    "            data_row_train = []\n",
    "            data_row_test = []\n",
    "\n",
    "            if line + num_row + 56 - 1 == 735: #如果输入输出步长加上起始位置超过最大列下标，则推出本行循环\n",
    "                break\n",
    "\n",
    "            while True:\n",
    "                if count  < line+num_row:\n",
    "                    data_row_train.append(data_nor[row][count]) #将每一行的各列的数据放入data_row_train中\n",
    "                    count += 1\n",
    "\n",
    "                elif count >= line+num_row and count<line+num_row+56:#如果count大于等于输入步长且小于输入加输出步长，则输入到data_row_test中\n",
    "                    data_row_test.append(data_nor[row][count])\n",
    "                    count += 1\n",
    "                \n",
    "                elif count == line+num_row+56: #如果输入输出步长加上起始位置超过最大列下标，则推出本行循环\n",
    "                    break\n",
    "\n",
    "            train_data_row.append(data_row_train)\n",
    "            test_data_row.append(data_row_test)\n",
    "\n",
    "        train_data_rows.append(train_data_row)\n",
    "        test_data_rows.append(test_data_row)\n",
    "\n",
    "    return np.array(train_data_rows), np.array(test_data_rows)\n",
    "    "
   ]
  },
  {
   "cell_type": "code",
   "execution_count": 72,
   "metadata": {},
   "outputs": [
    {
     "name": "stdout",
     "output_type": "stream",
     "text": [
      "(111, 624, 56)\n",
      "(111, 624, 56)\n",
      "(111, 568, 112)\n",
      "(111, 568, 56)\n",
      "(111, 1, 679)\n",
      "(111, 1, 56)\n"
     ]
    }
   ],
   "source": [
    "'''得到不同输入步长的训练集合,training_data_input_x的维度为(行数（111），每一行划分成了多少个训练样本/测试样本集合，输入步长)'''\n",
    "training_data_input_56, train_data_output_56 = input_size(train_data_rows_nor, 56)\n",
    "print(training_data_input_56.shape)\n",
    "print(train_data_output_56.shape)\n",
    "\n",
    "training_data_input_112, train_data_output_112 = input_size(train_data_rows_nor, 112)\n",
    "print(training_data_input_112.shape)\n",
    "print(train_data_output_112.shape)\n",
    "\n",
    "training_data_input_679, train_data_output_679 = input_size(train_data_rows_nor, 679)\n",
    "print(training_data_input_679.shape)\n",
    "print(train_data_output_679.shape)"
   ]
  },
  {
   "cell_type": "code",
   "execution_count": 73,
   "metadata": {},
   "outputs": [],
   "source": [
    "'''pytorch搭建mlp模型'''\n",
    "class NeuralNetwork(nn.Module):\n",
    "    def __init__(self, input_size=679):    #输入步长默认为679\n",
    "        super(NeuralNetwork,self).__init__()\n",
    "        self.input_size = input_size\n",
    "        self.linear_relu_stack = nn.Sequential(\n",
    "            nn.Linear(input_size,128),\n",
    "            nn.ReLU(),\n",
    "            nn.Linear(128,32),\n",
    "            nn.ReLU(),\n",
    "            nn.Linear(32,56)\n",
    "        )\n",
    "    #forward和init函数要对齐，否则报错NotImplementedError\n",
    "    def forward(self, x):\n",
    "        logits = self.linear_relu_stack(x)\n",
    "        return logits"
   ]
  },
  {
   "cell_type": "code",
   "execution_count": 74,
   "metadata": {},
   "outputs": [
    {
     "name": "stdout",
     "output_type": "stream",
     "text": [
      "NeuralNetwork(\n",
      "  (linear_relu_stack): Sequential(\n",
      "    (0): Linear(in_features=679, out_features=128, bias=True)\n",
      "    (1): ReLU()\n",
      "    (2): Linear(in_features=128, out_features=32, bias=True)\n",
      "    (3): ReLU()\n",
      "    (4): Linear(in_features=32, out_features=56, bias=True)\n",
      "  )\n",
      ")\n"
     ]
    }
   ],
   "source": [
    "'''测试模型'''\n",
    "model = NeuralNetwork()\n",
    "print(model)"
   ]
  },
  {
   "cell_type": "code",
   "execution_count": 75,
   "metadata": {},
   "outputs": [],
   "source": [
    "'''将数据转化为tensor'''\n",
    "input_56, output_56 = torch.tensor(training_data_input_56), torch.tensor(train_data_output_56)\n",
    "input_112, output_112 = torch.tensor(training_data_input_112), torch.tensor(train_data_output_112)\n",
    "input_679, output_679 = torch.tensor(training_data_input_679), torch.tensor(train_data_output_679)\n"
   ]
  },
  {
   "cell_type": "code",
   "execution_count": 76,
   "metadata": {},
   "outputs": [
    {
     "name": "stdout",
     "output_type": "stream",
     "text": [
      "624\n",
      "torch.Size([111, 624, 56])\n",
      "torch.Size([111, 568, 112])\n",
      "torch.Size([111, 568, 56])\n",
      "torch.Size([111, 1, 679])\n",
      "torch.Size([111, 1, 56])\n"
     ]
    }
   ],
   "source": [
    "'''观察转化后维度是否一致'''\n",
    "print(input_56.shape[1])\n",
    "print(output_56.shape)\n",
    "print(input_112.shape)\n",
    "print(output_112.shape)\n",
    "print(input_679.shape)\n",
    "print(output_679.shape)"
   ]
  },
  {
   "cell_type": "code",
   "execution_count": 77,
   "metadata": {},
   "outputs": [],
   "source": [
    "'''初始化模型，定义损失函数和优化方法'''\n",
    "model_56 = NeuralNetwork(56).to(device)\n",
    "model_112 = NeuralNetwork(112).to(device)\n",
    "model_679 = NeuralNetwork(679).to(device)\n",
    "\n",
    "loss_MSE = nn.MSELoss()#定义损失函数MSE\n",
    "loss_MAE = nn.L1Loss()#定义损失函数MAE\n",
    "\n",
    "optimizer_56 = torch.optim.SGD(model_56.parameters(), lr=1e-3)  #记住这里也要改模型的名字model_56.parameters()\n",
    "optimizer_112 = torch.optim.SGD(model_112.parameters(), lr=1e-3)  #记住这里也要改模型的名字model_56.parameters()\n",
    "optimizer_679 = torch.optim.SGD(model_679.parameters(), lr=1e-3)  #记住这里也要改模型的名字model_56.parameters()"
   ]
  },
  {
   "cell_type": "code",
   "execution_count": 78,
   "metadata": {},
   "outputs": [],
   "source": [
    "'''训练函数,输入为input_xx和output_xx,输入步长等'''\n",
    "def train(X_datas, y_datas, input_size, model, loss_def, optimizer, epochs):\n",
    "    rows = X_datas.shape[0]\n",
    "    nums = X_datas.shape[1]\n",
    "    model.train() #启用batch normalization和drop out,如果有\n",
    "\n",
    "    losses = []\n",
    "    iterations = []\n",
    "\n",
    "    for epoch in range(epochs):\n",
    "        for row in range(rows):  \n",
    "            num = 0\n",
    "            while num<nums:\n",
    "                X = X_datas[row][num]\n",
    "                y = y_datas[row][num]\n",
    "                X, y = X.to(device), y.to(device)\n",
    "\n",
    "                num += input_size+56  #不对重复的数据进行迭代训练\n",
    "\n",
    "                pred = model(X)#预测值\n",
    "                loss = loss_def(pred, y)#损失计算\n",
    "\n",
    "                optimizer.zero_grad()#后向传播\n",
    "                loss.backward()\n",
    "                optimizer.step()\n",
    "\n",
    "                loss = loss.item()\n",
    "\n",
    "        if epoch%50 == 0:\n",
    "            print(\"the loss of epoch \"+ str(epoch) + \" is: \" + str(loss))\n",
    "            losses.append(loss)\n",
    "            iterations.append(epoch)\n",
    "\n",
    "    prediction = model(X_datas.to(device))\n",
    "\n",
    "    plt.figure()\n",
    "    plt.title(\"loss of epochs per 50————————the input size: \"+str(input_size)+\"    the loss is: \" + str(loss_def))\n",
    "    plt.xlabel(\"epoch per 50\")\n",
    "    plt.ylabel(\"loss\")\n",
    "    plt.plot(iterations,losses)\n",
    "    \n",
    "    plt.show()\n",
    "\n",
    "    return prediction.to('cpu')"
   ]
  },
  {
   "cell_type": "code",
   "execution_count": 79,
   "metadata": {},
   "outputs": [],
   "source": [
    "'''sMAPE精确度指标'''\n",
    "def sMAPE(pred, y):\n",
    "    n = pred.shape[0] * pred.shape[1]  #各个维度相乘，计算一共有多少个元素   （111*56个元素）\n",
    "    sum = abs(pred-y)/(abs(pred+y)/2)\n",
    "    acc = torch.sum(sum)/n #将所有元素相加\n",
    "    return acc*100"
   ]
  },
  {
   "cell_type": "code",
   "execution_count": 80,
   "metadata": {},
   "outputs": [],
   "source": [
    "'''将归一化的数据恢复成原本的数据'''\n",
    "def reverse_normalizationdata(data,max,min):\n",
    "    range = max - min\n",
    "    return torch.mul(data, range)+min"
   ]
  },
  {
   "cell_type": "code",
   "execution_count": 81,
   "metadata": {},
   "outputs": [],
   "source": [
    "'''计算不同输入步长的sMAPE指标，输入有归一化后的训练集数据和测试集数据,以及未归一化的训练集数据和测试数据，以及输入步长和模型\n",
    "步骤：将初始归一化后的数据转化为tesor -> 利用模型输入训练集倒数的输入步长得到预测值 -> 求出未正则化数据的最大值最小值 -> 进行反归一化 -> 利用预测值和测试集计算sMAPE值'''\n",
    "def cal_sMAPE(train_data_rows, test_data_rows, train_data_rows_nor, test_data_rows_nor, input_size, model):\n",
    "    training_data = torch.tensor(train_data_rows_nor)#将归一化的测试数据转化为tensor\n",
    "    testing_data = torch.tensor(test_data_rows_nor) #将归一化的测试数据转化为tensor\n",
    "\n",
    "    training_data_input = training_data[:,[range(735-input_size,735)]]  #要输入的训练集中后输入长度个个数据,用于预测test集\n",
    "    training_data_input = training_data_input.squeeze()\n",
    "\n",
    "    prediction = model(training_data_input.to(torch.float32).to(device)) #用训练集后输入长度个数据得到的预测值\n",
    "    #print(pred.shape)\n",
    "    \n",
    "    #训练集数据最大值最小值\n",
    "    train_max = np.max(train_data_rows, axis = 1) #找每行最大的，默认每axis为0，即每列\n",
    "    train_min = np.min(train_data_rows, axis = 1)\n",
    "    train_max = torch.tensor(train_max).view(training_data.shape[0],1) #torch.tensor消除了最后的1的维度，因此要用view恢复为(111,1)的形状\n",
    "    train_min = torch.tensor(train_min).view(training_data.shape[0],1)\n",
    "\n",
    "    #测试集数据最大值最小值\n",
    "    test_max = np.max(test_data_rows, axis = 1)\n",
    "    test_min = np.min(test_data_rows, axis = 1)\n",
    "    test_max = torch.tensor(test_max).view(training_data.shape[0],1)\n",
    "    test_min = torch.tensor(test_min).view(training_data.shape[0],1)\n",
    "    \n",
    "    pred = reverse_normalizationdata(prediction, train_max, train_min)   #pred代表训练集归一化后带入训练过的模型输出的预测值。并且用训练集的最大最小值进行反归一化\n",
    "    y = reverse_normalizationdata(testing_data, test_max, test_min)   #y代表真实的测试数据利用测试数据的最大最小值进行反归一化\n",
    "\n",
    "    acc = sMAPE(pred, y)\n",
    "\n",
    "    print(\"输入步长为\"+str(input_size)+\"的sMAPE指标：\"+str(acc.item())) #item可以只保留数字\n",
    "\n",
    "    return acc"
   ]
  },
  {
   "cell_type": "code",
   "execution_count": 82,
   "metadata": {},
   "outputs": [],
   "source": [
    "'''同样的训练过程，不过绘制出随着epoch的增加，输入训练集的倒数的输入步长与测试数据的sMAPE值变化\n",
    "训练函数,输入为input_xx和output_xx,输入步长,以及cal_sMAPE的输入参数'''\n",
    "def train_sMAPE(X_datas_train, y_datas_train, train_data_rows, test_data_rows, train_data_rows_nor, test_data_rows_nor, input_size, model, loss_def, optimizer, epochs):\n",
    "    rows = X_datas_train.shape[0]\n",
    "    nums = X_datas_train.shape[1]\n",
    "    model.train() #启用batch normalization和drop out,如果有\n",
    "\n",
    "    #losses = []\n",
    "    iterations = []\n",
    "    sMAPEs = []\n",
    "\n",
    "    for epoch in range(epochs):\n",
    "        for row in range(rows):  \n",
    "            num = 0\n",
    "            while num<nums:\n",
    "                X = X_datas_train[row][num]\n",
    "                y = y_datas_train[row][num]\n",
    "                X, y = X.to(device), y.to(device)\n",
    "\n",
    "                num += input_size+56  #不对重复的数据进行迭代训练\n",
    "\n",
    "                pred = model(X)#预测值\n",
    "                loss = loss_def(pred, y)#损失计算\n",
    "\n",
    "                optimizer.zero_grad()#后向传播\n",
    "                loss.backward()\n",
    "                optimizer.step()\n",
    "\n",
    "                #loss = loss.item()\n",
    "                sMAPE = cal_sMAPE(train_data_rows, test_data_rows, train_data_rows_nor, test_data_rows_nor, input_size, model).detach().numpy()\n",
    "\n",
    "        if epoch%100 == 0:\n",
    "            print(\"the sMAPE of epoch \"+ str(epoch) + \" is: \" + str(sMAPE))\n",
    "            sMAPEs.append(sMAPE)\n",
    "            #losses.append(loss)\n",
    "            iterations.append(epoch)\n",
    "\n",
    "    plt.figure() #再次输入可新建画布\n",
    "    plt.title(\"loss of epochs per 100————————输入步长：\"+str(input_size))\n",
    "    plt.xlabel(\"epoch per 100\")\n",
    "    plt.ylabel(\"sMAPE\")\n",
    "    plt.plot(iterations,sMAPEs)\n",
    "    \n",
    "    plt.show()\n"
   ]
  },
  {
   "cell_type": "code",
   "execution_count": 83,
   "metadata": {},
   "outputs": [
    {
     "data": {
      "text/plain": [
       "'Adam优化\\ntorch.optim.Adam(model_56.parameters(),lr=0.001,betas=(0.9, 0.999),eps=1e-08,weight_decay=0,amsgrad=False)\\ntorch.optim.Adam(model_112.parameters(),lr=0.001,betas=(0.9, 0.999),eps=1e-08,weight_decay=0,amsgrad=False)\\ntorch.optim.Adam(model_679.parameters(),lr=0.001,betas=(0.9, 0.999),eps=1e-08,weight_decay=0,amsgrad=False)\\n'"
      ]
     },
     "execution_count": 83,
     "metadata": {},
     "output_type": "execute_result"
    }
   ],
   "source": [
    "'''Adam优化\n",
    "torch.optim.Adam(model_56.parameters(),lr=0.001,betas=(0.9, 0.999),eps=1e-08,weight_decay=0,amsgrad=False)\n",
    "torch.optim.Adam(model_112.parameters(),lr=0.001,betas=(0.9, 0.999),eps=1e-08,weight_decay=0,amsgrad=False)\n",
    "torch.optim.Adam(model_679.parameters(),lr=0.001,betas=(0.9, 0.999),eps=1e-08,weight_decay=0,amsgrad=False)\n",
    "'''"
   ]
  },
  {
   "cell_type": "code",
   "execution_count": 87,
   "metadata": {},
   "outputs": [
    {
     "name": "stdout",
     "output_type": "stream",
     "text": [
      "the loss of epoch 0 is: 0.047807931900024414\n",
      "the loss of epoch 50 is: 0.0040286569856107235\n",
      "the loss of epoch 100 is: 0.0039885095320641994\n",
      "the loss of epoch 150 is: 0.004010496195405722\n",
      "the loss of epoch 200 is: 0.0039827702566981316\n",
      "the loss of epoch 250 is: 0.003949700389057398\n",
      "the loss of epoch 300 is: 0.00390701275318861\n",
      "the loss of epoch 350 is: 0.0038682110607624054\n",
      "the loss of epoch 400 is: 0.003838546108454466\n",
      "the loss of epoch 450 is: 0.0038128900341689587\n"
     ]
    },
    {
     "data": {
      "image/png": "[encoded data removed]",
      "text/plain": [
       "<Figure size 432x288 with 1 Axes>"
      ]
     },
     "metadata": {
      "needs_background": "light"
     },
     "output_type": "display_data"
    },
    {
     "name": "stdout",
     "output_type": "stream",
     "text": [
      "输入步长为56的sMAPE指标：38.478948197026625\n"
     ]
    }
   ],
   "source": [
    "'''输入步长为56,损失函数为MSE，SGD优化：\n",
    "以损失函数作为标准进行训练并绘制图像,并返回预测值'''\n",
    "'''初始化模型，定义损失函数和优化方法'''\n",
    "model_56_mse_sgd = NeuralNetwork(56).to(device)\n",
    "loss_MSE = nn.MSELoss()#定义损失函数MSE\n",
    "optimizer_56 = torch.optim.SGD(model_56_mse_sgd.parameters(), lr=1e-3)  #记住这里也要改模型的名字model_56.parameters()\n",
    "\n",
    "#需要注意.to(torch.float32)用来将数据转化为一致的类型，否则报错\n",
    "prediction = train(input_56.to(torch.float32), output_56.to(torch.float32), 56, model_56_mse_sgd, loss_MSE, optimizer_56, 500)\n",
    "'''计算sMAPE指标并输出'''\n",
    "acc_56 = cal_sMAPE(train_data_rows, test_data_rows, train_data_rows_nor, test_data_rows_nor, 56, model_56_mse_sgd)"
   ]
  },
  {
   "cell_type": "code",
   "execution_count": 88,
   "metadata": {},
   "outputs": [
    {
     "name": "stdout",
     "output_type": "stream",
     "text": [
      "the loss of epoch 0 is: 0.16455350816249847\n",
      "the loss of epoch 50 is: 0.04664061218500137\n",
      "the loss of epoch 100 is: 0.04606498032808304\n",
      "the loss of epoch 150 is: 0.04617605730891228\n",
      "the loss of epoch 200 is: 0.046463172882795334\n",
      "the loss of epoch 250 is: 0.046655766665935516\n",
      "the loss of epoch 300 is: 0.046727266162633896\n",
      "the loss of epoch 350 is: 0.046734265983104706\n",
      "the loss of epoch 400 is: 0.04665622487664223\n",
      "the loss of epoch 450 is: 0.046599265187978745\n"
     ]
    },
    {
     "data": {
      "image/png": "[encoded data removed]",
      "text/plain": [
       "<Figure size 432x288 with 1 Axes>"
      ]
     },
     "metadata": {
      "needs_background": "light"
     },
     "output_type": "display_data"
    },
    {
     "name": "stdout",
     "output_type": "stream",
     "text": [
      "输入步长为56的sMAPE指标：39.30224737495581\n"
     ]
    }
   ],
   "source": [
    "'''输入步长为56,损失函数为MAE，SGD优化：\n",
    "以损失函数作为标准进行训练并绘制图像,并返回预测值'''\n",
    "'''初始化模型，定义损失函数和优化方法'''\n",
    "model_56_mae_sgd = NeuralNetwork(56).to(device)\n",
    "loss_MAE = nn.L1Loss()#定义损失函数MAE\n",
    "optimizer_56 = torch.optim.SGD(model_56_mae_sgd.parameters(), lr=1e-3)  #记住这里也要改模型的名字model_56.parameters()\n",
    "\n",
    "#需要注意.to(torch.float32)用来将数据转化为一致的类型，否则报错\n",
    "prediction = train(input_56.to(torch.float32), output_56.to(torch.float32), 56, model_56_mae_sgd, loss_MAE, optimizer_56, 500)\n",
    "\n",
    "acc_56 = cal_sMAPE(train_data_rows, test_data_rows, train_data_rows_nor, test_data_rows_nor, 56, model_56_mae_sgd)"
   ]
  },
  {
   "cell_type": "code",
   "execution_count": 89,
   "metadata": {},
   "outputs": [
    {
     "name": "stdout",
     "output_type": "stream",
     "text": [
      "the loss of epoch 0 is: 0.0041062007658183575\n",
      "the loss of epoch 50 is: 0.0017841086955741048\n",
      "the loss of epoch 100 is: 0.0017697600414976478\n",
      "the loss of epoch 150 is: 0.0018081777961924672\n",
      "the loss of epoch 200 is: 0.0014073305064812303\n",
      "the loss of epoch 250 is: 0.0014929539756849408\n"
     ]
    },
    {
     "data": {
      "image/png": "[encoded data removed]",
      "text/plain": [
       "<Figure size 432x288 with 1 Axes>"
      ]
     },
     "metadata": {
      "needs_background": "light"
     },
     "output_type": "display_data"
    },
    {
     "name": "stdout",
     "output_type": "stream",
     "text": [
      "输入步长为56的sMAPE指标：45.492630657661984\n"
     ]
    }
   ],
   "source": [
    "'''输入步长为56,损失函数为MSE，Adam优化：\n",
    "以损失函数作为标准进行训练并绘制图像,并返回预测值'''\n",
    "'''初始化模型，定义损失函数和优化方法'''\n",
    "model_56_mse_adam = NeuralNetwork(56).to(device)\n",
    "loss_MSE = nn.MSELoss()#定义损失函数MSE\n",
    "optimizer_56 = torch.optim.Adam(model_56_mse_adam.parameters(),lr=0.001,betas=(0.9, 0.999),eps=1e-08,weight_decay=0,amsgrad=False)\n",
    "\n",
    "#需要注意.to(torch.float32)用来将数据转化为一致的类型，否则报错\n",
    "prediction = train(input_56.to(torch.float32), output_56.to(torch.float32), 56, model_56_mse_adam, loss_MSE, optimizer_56, 300)\n",
    "'''计算sMAPE指标并输出'''\n",
    "acc_56 = cal_sMAPE(train_data_rows, test_data_rows, train_data_rows_nor, test_data_rows_nor, 56, model_56_mse_adam)"
   ]
  },
  {
   "cell_type": "code",
   "execution_count": 90,
   "metadata": {},
   "outputs": [
    {
     "name": "stdout",
     "output_type": "stream",
     "text": [
      "the loss of epoch 0 is: 0.03216303139925003\n",
      "the loss of epoch 50 is: 0.005419472698122263\n",
      "the loss of epoch 100 is: 0.003536340082064271\n",
      "the loss of epoch 150 is: 0.0035427939146757126\n",
      "the loss of epoch 200 is: 0.0035648311022669077\n",
      "the loss of epoch 250 is: 0.0035551826003938913\n",
      "the loss of epoch 300 is: 0.0035346541553735733\n",
      "the loss of epoch 350 is: 0.00351219205185771\n",
      "the loss of epoch 400 is: 0.0034904612693935633\n",
      "the loss of epoch 450 is: 0.0034698897507041693\n"
     ]
    },
    {
     "data": {
      "image/png": "[encoded data removed]",
      "text/plain": [
       "<Figure size 432x288 with 1 Axes>"
      ]
     },
     "metadata": {
      "needs_background": "light"
     },
     "output_type": "display_data"
    },
    {
     "name": "stdout",
     "output_type": "stream",
     "text": [
      "输入步长为112的sMAPE指标：39.145918215275486\n"
     ]
    }
   ],
   "source": [
    "'''输入步长为112，损失函数为MSE，SGD优化：\n",
    "以损失函数作为标准进行训练并绘制图像,并返回预测值'''\n",
    "'''初始化模型，定义损失函数和优化方法'''\n",
    "model_112_mse_sgd = NeuralNetwork(112).to(device)\n",
    "loss_MSE = nn.MSELoss()#定义损失函数MSE\n",
    "optimizer_112 = torch.optim.SGD(model_112_mse_sgd.parameters(), lr=1e-3)  #记住这里也要改模型的名字model_56.parameters()\n",
    "\n",
    "#需要注意.to(torch.float32)用来将数据转化为一致的类型，否则报错\n",
    "prediction = train(input_112.to(torch.float32), output_112.to(torch.float32), 112, model_112_mse_sgd, loss_MSE, optimizer_112, 500)\n",
    "\n",
    "acc_112 = cal_sMAPE(train_data_rows, test_data_rows, train_data_rows_nor, test_data_rows_nor, 112, model_112_mse_sgd)"
   ]
  },
  {
   "cell_type": "code",
   "execution_count": 91,
   "metadata": {},
   "outputs": [
    {
     "name": "stdout",
     "output_type": "stream",
     "text": [
      "the loss of epoch 0 is: 0.1587599664926529\n",
      "the loss of epoch 50 is: 0.0468074269592762\n",
      "the loss of epoch 100 is: 0.046444427222013474\n",
      "the loss of epoch 150 is: 0.0459628626704216\n",
      "the loss of epoch 200 is: 0.04589713737368584\n",
      "the loss of epoch 250 is: 0.04587681218981743\n",
      "the loss of epoch 300 is: 0.04607575759291649\n",
      "the loss of epoch 350 is: 0.04616842418909073\n",
      "the loss of epoch 400 is: 0.046313464641571045\n",
      "the loss of epoch 450 is: 0.04635204002261162\n"
     ]
    },
    {
     "data": {
      "image/png": "[encoded data removed]",
      "text/plain": [
       "<Figure size 432x288 with 1 Axes>"
      ]
     },
     "metadata": {
      "needs_background": "light"
     },
     "output_type": "display_data"
    },
    {
     "name": "stdout",
     "output_type": "stream",
     "text": [
      "输入步长为112的sMAPE指标：40.598911804961595\n"
     ]
    }
   ],
   "source": [
    "'''输入步长为112情况，损失函数为MAE， SGD优化：\n",
    "以损失函数作为标准进行训练并绘制图像,并返回预测值'''\n",
    "'''初始化模型，定义损失函数和优化方法'''\n",
    "model_112_mae_sgd = NeuralNetwork(112).to(device)\n",
    "loss_MAE = nn.L1Loss()#定义损失函数MAE\n",
    "optimizer_112 = torch.optim.SGD(model_112_mae_sgd.parameters(), lr=1e-3)  #记住这里也要改模型的名字model_56.parameters()\n",
    "\n",
    "#需要注意.to(torch.float32)用来将数据转化为一致的类型，否则报错\n",
    "prediction = train(input_112.to(torch.float32), output_112.to(torch.float32), 112, model_112_mae_sgd, loss_MAE, optimizer_112, 500)\n",
    "\n",
    "acc_112 = cal_sMAPE(train_data_rows, test_data_rows, train_data_rows_nor, test_data_rows_nor, 112, model_112_mae_sgd)"
   ]
  },
  {
   "cell_type": "code",
   "execution_count": 92,
   "metadata": {},
   "outputs": [
    {
     "name": "stdout",
     "output_type": "stream",
     "text": [
      "the loss of epoch 0 is: 0.003227532608434558\n",
      "the loss of epoch 50 is: 0.0016171665629372\n",
      "the loss of epoch 100 is: 0.0015158074675127864\n",
      "the loss of epoch 150 is: 0.0015466207405552268\n",
      "the loss of epoch 200 is: 0.001508840243332088\n",
      "the loss of epoch 250 is: 0.001713055418804288\n"
     ]
    },
    {
     "data": {
      "image/png": "[encoded data removed]",
      "text/plain": [
       "<Figure size 432x288 with 1 Axes>"
      ]
     },
     "metadata": {
      "needs_background": "light"
     },
     "output_type": "display_data"
    },
    {
     "name": "stdout",
     "output_type": "stream",
     "text": [
      "输入步长为112的sMAPE指标：48.79964595996812\n"
     ]
    }
   ],
   "source": [
    "'''输入步长为112，损失函数为MSE，Adam优化：\n",
    "以损失函数作为标准进行训练并绘制图像,并返回预测值'''\n",
    "'''初始化模型，定义损失函数和优化方法'''\n",
    "model_112_mse_adam = NeuralNetwork(112).to(device)\n",
    "loss_MSE = nn.MSELoss()#定义损失函数MSE\n",
    "optimizer_112 = torch.optim.Adam(model_112_mse_adam.parameters(),lr=0.001,betas=(0.9, 0.999),eps=1e-08,weight_decay=0,amsgrad=False)\n",
    "\n",
    "#需要注意.to(torch.float32)用来将数据转化为一致的类型，否则报错\n",
    "prediction = train(input_112.to(torch.float32), output_112.to(torch.float32), 112, model_112_mse_adam, loss_MSE, optimizer_112, 300)\n",
    "\n",
    "acc_112 = cal_sMAPE(train_data_rows, test_data_rows, train_data_rows_nor, test_data_rows_nor, 112, model_112_mse_adam)"
   ]
  },
  {
   "cell_type": "code",
   "execution_count": 93,
   "metadata": {},
   "outputs": [
    {
     "name": "stdout",
     "output_type": "stream",
     "text": [
      "the loss of epoch 0 is: 0.03826823830604553\n",
      "the loss of epoch 50 is: 0.015093171037733555\n",
      "the loss of epoch 100 is: 0.005232295487076044\n",
      "the loss of epoch 150 is: 0.0020511294715106487\n",
      "the loss of epoch 200 is: 0.0012061722809448838\n",
      "the loss of epoch 250 is: 0.001008015708066523\n",
      "the loss of epoch 300 is: 0.0009683906682766974\n",
      "the loss of epoch 350 is: 0.0009619328193366528\n",
      "the loss of epoch 400 is: 0.0009605857194401324\n",
      "the loss of epoch 450 is: 0.0009589380933903158\n"
     ]
    },
    {
     "data": {
      "image/png": "[encoded data removed]",
      "text/plain": [
       "<Figure size 432x288 with 1 Axes>"
      ]
     },
     "metadata": {
      "needs_background": "light"
     },
     "output_type": "display_data"
    },
    {
     "name": "stdout",
     "output_type": "stream",
     "text": [
      "输入步长为679的sMAPE指标：41.407385804027456\n"
     ]
    }
   ],
   "source": [
    "'''输入步长为679，损失函数为MSE， SGD优化：\n",
    "以损失函数作为标准进行训练并绘制图像,并返回预测值'''\n",
    "'''初始化模型，定义损失函数和优化方法'''\n",
    "model_679_mse_sgd = NeuralNetwork(679).to(device)\n",
    "loss_MSE = nn.MSELoss()#定义损失函数MSE\n",
    "optimizer_679 = torch.optim.SGD(model_679_mse_sgd.parameters(), lr=1e-3)  #记住这里也要改模型的名字model_56.parameters()\n",
    "\n",
    "#需要注意.to(torch.float32)用来将数据转化为一致的类型，否则报错\n",
    "prediction = train(input_679.to(torch.float32), output_679.to(torch.float32), 679, model_679_mse_sgd, loss_MSE, optimizer_679, 500)\n",
    "\n",
    "acc_679 = cal_sMAPE(train_data_rows, test_data_rows, train_data_rows_nor, test_data_rows_nor, 679, model_679_mse_sgd)"
   ]
  },
  {
   "cell_type": "code",
   "execution_count": 94,
   "metadata": {},
   "outputs": [
    {
     "name": "stdout",
     "output_type": "stream",
     "text": [
      "the loss of epoch 0 is: 0.17292523384094238\n",
      "the loss of epoch 50 is: 0.0420166477560997\n",
      "the loss of epoch 100 is: 0.020659063011407852\n",
      "the loss of epoch 150 is: 0.02041599340736866\n",
      "the loss of epoch 200 is: 0.019719522446393967\n",
      "the loss of epoch 250 is: 0.019176065921783447\n",
      "the loss of epoch 300 is: 0.018895165994763374\n",
      "the loss of epoch 350 is: 0.018574131652712822\n",
      "the loss of epoch 400 is: 0.018458839505910873\n",
      "the loss of epoch 450 is: 0.01824762485921383\n"
     ]
    },
    {
     "data": {
      "image/png": "[encoded data removed]",
      "text/plain": [
       "<Figure size 432x288 with 1 Axes>"
      ]
     },
     "metadata": {
      "needs_background": "light"
     },
     "output_type": "display_data"
    },
    {
     "name": "stdout",
     "output_type": "stream",
     "text": [
      "输入步长为679的sMAPE指标：40.98956137665063\n"
     ]
    }
   ],
   "source": [
    "'''输入步长为679，损失函数为MAE， SGD优化：\n",
    "以损失函数作为标准进行训练并绘制图像,并返回预测值'''\n",
    "'''初始化模型，定义损失函数和优化方法'''\n",
    "model_679_mae_sgd = NeuralNetwork(679).to(device)\n",
    "loss_MAE = nn.L1Loss()#定义损失函数MAE\n",
    "optimizer_679 = torch.optim.SGD(model_679_mae_sgd.parameters(), lr=1e-3)  #记住这里也要改模型的名字model_56.parameters()\n",
    "\n",
    "#需要注意.to(torch.float32)用来将数据转化为一致的类型，否则报错\n",
    "prediction = train(input_679.to(torch.float32), output_679.to(torch.float32), 679, model_679_mae_sgd, loss_MAE, optimizer_679, 500)\n",
    "\n",
    "acc_679 = cal_sMAPE(train_data_rows, test_data_rows, train_data_rows_nor, test_data_rows_nor, 679, model_679_mae_sgd)"
   ]
  },
  {
   "cell_type": "code",
   "execution_count": 95,
   "metadata": {},
   "outputs": [
    {
     "name": "stdout",
     "output_type": "stream",
     "text": [
      "the loss of epoch 0 is: 0.0010074671590700746\n",
      "the loss of epoch 50 is: 0.0009269873844459653\n",
      "the loss of epoch 100 is: 0.001061938819475472\n",
      "the loss of epoch 150 is: 0.00046131067210808396\n",
      "the loss of epoch 200 is: 0.0007131975726224482\n",
      "the loss of epoch 250 is: 0.00062368850922212\n"
     ]
    },
    {
     "data": {
      "image/png": "[encoded data removed]",
      "text/plain": [
       "<Figure size 432x288 with 1 Axes>"
      ]
     },
     "metadata": {
      "needs_background": "light"
     },
     "output_type": "display_data"
    },
    {
     "name": "stdout",
     "output_type": "stream",
     "text": [
      "输入步长为679的sMAPE指标：37.21683807578309\n"
     ]
    }
   ],
   "source": [
    "'''输入步长为679，损失函数为MSE， Adam优化：\n",
    "以损失函数作为标准进行训练并绘制图像,并返回预测值'''\n",
    "'''初始化模型，定义损失函数和优化方法'''\n",
    "model_679_mse_adam = NeuralNetwork(679).to(device)\n",
    "loss_MSE = nn.MSELoss()#定义损失函数MSE\n",
    "optimizer_679 = torch.optim.Adam(model_679_mse_adam.parameters(),lr=0.001,betas=(0.9, 0.999),eps=1e-08,weight_decay=0,amsgrad=False)\n",
    "\n",
    "#需要注意.to(torch.float32)用来将数据转化为一致的类型，否则报错\n",
    "prediction = train(input_679.to(torch.float32), output_679.to(torch.float32), 679, model_679_mse_adam, loss_MSE, optimizer_679, 300)\n",
    "\n",
    "acc_679 = cal_sMAPE(train_data_rows, test_data_rows, train_data_rows_nor, test_data_rows_nor, 679, model_679_mse_adam)"
   ]
  },
  {
   "cell_type": "code",
   "execution_count": 96,
   "metadata": {},
   "outputs": [
    {
     "data": {
      "text/plain": [
       "'计算sMAPE指标，输出结果\\nacc_56 = cal_sMAPE(train_data_rows, test_data_rows, train_data_rows_nor, test_data_rows_nor, 56, model_56)\\nacc_112 = cal_sMAPE(train_data_rows, test_data_rows, train_data_rows_nor, test_data_rows_nor, 112, model_112)\\nacc_679 = cal_sMAPE(train_data_rows, test_data_rows, train_data_rows_nor, test_data_rows_nor, 679, model_679)\\n'"
      ]
     },
     "execution_count": 96,
     "metadata": {},
     "output_type": "execute_result"
    }
   ],
   "source": [
    "'''计算sMAPE指标，输出结果\n",
    "acc_56 = cal_sMAPE(train_data_rows, test_data_rows, train_data_rows_nor, test_data_rows_nor, 56, model_56)\n",
    "acc_112 = cal_sMAPE(train_data_rows, test_data_rows, train_data_rows_nor, test_data_rows_nor, 112, model_112)\n",
    "acc_679 = cal_sMAPE(train_data_rows, test_data_rows, train_data_rows_nor, test_data_rows_nor, 679, model_679)\n",
    "'''\n"
   ]
  },
  {
   "cell_type": "code",
   "execution_count": 97,
   "metadata": {},
   "outputs": [
    {
     "name": "stdout",
     "output_type": "stream",
     "text": [
      "未经过训练模型计算出的sMAPE指标：1537.8900452369003\n"
     ]
    }
   ],
   "source": [
    "'''利用未训练模型来计算sMAPE，来验证训练后的模型有效性'''\n",
    "training_data = torch.tensor(train_data_rows_nor)#将归一化的测试数据转化为tensor\n",
    "x = training_data[:,[range(56,735)]]  \n",
    "x = x.squeeze()\n",
    "\n",
    "model = NeuralNetwork().to(device)\n",
    "prediction= model(x.to(torch.float32).to(device))\n",
    "\n",
    "train_max = np.max(train_data_rows)\n",
    "train_min = np.min(train_data_rows)\n",
    "train_max = torch.tensor(train_max)\n",
    "train_min = torch.tensor(train_min)\n",
    "pred = reverse_normalizationdata(prediction, train_max, train_min)\n",
    "\n",
    "y = torch.tensor(test_data_rows)\n",
    "\n",
    "acc = sMAPE(pred, y)\n",
    "print(\"未经过训练模型计算出的sMAPE指标：\"+str(acc.item())) "
   ]
  },
  {
   "cell_type": "code",
   "execution_count": 98,
   "metadata": {},
   "outputs": [
    {
     "data": {
      "text/plain": [
       "'重新初始化模型，重新开始训练\\nmodel_56 = NeuralNetwork(56).to(device)\\nmodel_112 = NeuralNetwork(112).to(device)\\nmodel_679 = NeuralNetwork(679).to(device)\\n'"
      ]
     },
     "execution_count": 98,
     "metadata": {},
     "output_type": "execute_result"
    }
   ],
   "source": [
    "'''重新初始化模型，重新开始训练\n",
    "model_56 = NeuralNetwork(56).to(device)\n",
    "model_112 = NeuralNetwork(112).to(device)\n",
    "model_679 = NeuralNetwork(679).to(device)\n",
    "'''"
   ]
  },
  {
   "cell_type": "code",
   "execution_count": 99,
   "metadata": {},
   "outputs": [
    {
     "data": {
      "text/plain": [
       "'输入步长为56的基于sMAPE指标的训练绘图\\ntrain_sMAPE(input_56.to(torch.float32), output_56.to(torch.float32), train_data_rows, test_data_rows, train_data_rows_nor, test_data_rows_nor, 56, model_56, loss_MSE, optimizer_56, 500)\\n'"
      ]
     },
     "execution_count": 99,
     "metadata": {},
     "output_type": "execute_result"
    }
   ],
   "source": [
    "'''输入步长为56的基于sMAPE指标的训练绘图\n",
    "train_sMAPE(input_56.to(torch.float32), output_56.to(torch.float32), train_data_rows, test_data_rows, train_data_rows_nor, test_data_rows_nor, 56, model_56, loss_MSE, optimizer_56, 500)\n",
    "'''"
   ]
  },
  {
   "cell_type": "code",
   "execution_count": 100,
   "metadata": {},
   "outputs": [
    {
     "data": {
      "text/plain": [
       "'输入步长为112的基于sMAPE指标的训练绘图\\ntrain_sMAPE(input_112.to(torch.float32), output_112.to(torch.float32), train_data_rows, test_data_rows, train_data_rows_nor, test_data_rows_nor, 112, model_112, loss_MSE, optimizer_112, 500)\\n'"
      ]
     },
     "execution_count": 100,
     "metadata": {},
     "output_type": "execute_result"
    }
   ],
   "source": [
    "'''输入步长为112的基于sMAPE指标的训练绘图\n",
    "train_sMAPE(input_112.to(torch.float32), output_112.to(torch.float32), train_data_rows, test_data_rows, train_data_rows_nor, test_data_rows_nor, 112, model_112, loss_MSE, optimizer_112, 500)\n",
    "'''"
   ]
  },
  {
   "cell_type": "code",
   "execution_count": 101,
   "metadata": {},
   "outputs": [
    {
     "data": {
      "text/plain": [
       "'输入步长为679的基于sMAPE指标的训练绘图\\ntrain_sMAPE(input_679.to(torch.float32), output_679.to(torch.float32), train_data_rows, test_data_rows, train_data_rows_nor, test_data_rows_nor, 679, model_679, loss_MSE, optimizer_679, 500)\\n'"
      ]
     },
     "execution_count": 101,
     "metadata": {},
     "output_type": "execute_result"
    }
   ],
   "source": [
    "'''输入步长为679的基于sMAPE指标的训练绘图\n",
    "train_sMAPE(input_679.to(torch.float32), output_679.to(torch.float32), train_data_rows, test_data_rows, train_data_rows_nor, test_data_rows_nor, 679, model_679, loss_MSE, optimizer_679, 500)\n",
    "'''"
   ]
  }
 ],
 "metadata": {
  "interpreter": {
   "hash": "ed2b4d9c6d10d022777493e9ba813f87e78014dfbcffa4a004578ae8b0a5cb2b"
  },
  "kernelspec": {
   "display_name": "Python 3.8.12 64-bit ('pytorch': conda)",
   "language": "python",
   "name": "python3"
  },
  "language_info": {
   "codemirror_mode": {
    "name": "ipython",
    "version": 3
   },
   "file_extension": ".py",
   "mimetype": "text/x-python",
   "name": "python",
   "nbconvert_exporter": "python",
   "pygments_lexer": "ipython3",
   "version": "3.8.12"
  },
  "orig_nbformat": 4
 },
 "nbformat": 4,
 "nbformat_minor": 2
}
