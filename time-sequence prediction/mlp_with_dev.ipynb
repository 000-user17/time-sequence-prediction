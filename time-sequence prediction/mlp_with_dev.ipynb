{
 "cells": [
  {
   "cell_type": "code",
   "execution_count": 1,
   "metadata": {},
   "outputs": [
    {
     "data": {
      "text/plain": [
       "'cpu'"
      ]
     },
     "execution_count": 1,
     "metadata": {},
     "output_type": "execute_result"
    }
   ],
   "source": [
    "'''将训练集中的后30个做验证集，前81个做训练集，然后探究模型自身在训练集和验证集上的效果'''\n",
    "import torch\n",
    "from torch import nn\n",
    "from torch.utils.data import DataLoader\n",
    "import matplotlib.pyplot as plt   #jupyter要matplotlib.pyplot\n",
    "import numpy as np\n",
    "import pandas as pd\n",
    "from pandas import DataFrame\n",
    "device = 'cuda:0' if torch.cuda.is_available() else \"cpu\"\n",
    "device"
   ]
  },
  {
   "cell_type": "code",
   "execution_count": 2,
   "metadata": {},
   "outputs": [],
   "source": [
    "filepath = \"train.csv\"\n",
    "train_data = pd.read_csv(filepath) #抛弃了验证集后30条序列的训练集\n",
    "dev_data = pd.read_csv(\"dev.csv\")"
   ]
  },
  {
   "cell_type": "code",
   "execution_count": 3,
   "metadata": {},
   "outputs": [],
   "source": [
    "'''将train.csv and test.csv 中的数据转化为np.array，按照原格式111*735一行一行的存入数组中'''\n",
    "def loaddata(data, rows, lines):#将每一行的各列的数据放入train_data_row中\n",
    "    data_rows=[]\n",
    "    for row in range(0,rows):\n",
    "        data_row=[]\n",
    "        for line in range(0,lines):\n",
    "            data_row.append(data[str(line)][row]) #将每一行的各列的数据放入train_data_row中\n",
    "        data_rows.append(data_row)\n",
    "    return np.array(data_rows)"
   ]
  },
  {
   "cell_type": "code",
   "execution_count": 4,
   "metadata": {},
   "outputs": [],
   "source": [
    "def normalizationdata(data):  #归一化\n",
    "    range = np.max(data) - np.min(data)\n",
    "    return (data - np.min(data)) / range"
   ]
  },
  {
   "cell_type": "code",
   "execution_count": 5,
   "metadata": {},
   "outputs": [],
   "source": [
    "'''将训练数据和测试数据的每一行都装入train_data_rows'''\n",
    "train_data_rows = loaddata(train_data, 81, 735)\n",
    "dev_data_rows = loaddata(dev_data, 30, 735)"
   ]
  },
  {
   "cell_type": "code",
   "execution_count": 6,
   "metadata": {},
   "outputs": [],
   "source": [
    "'''将数据归一化处理'''\n",
    "train_data_rows_nor = normalizationdata(train_data_rows)\n",
    "dev_data_rows_nor = normalizationdata(dev_data_rows)\n",
    "#test_data_rows_nor[0]"
   ]
  },
  {
   "cell_type": "code",
   "execution_count": 7,
   "metadata": {},
   "outputs": [],
   "source": [
    "'''输入为归一化的数据data_nor,输入长度num_row和数据总行数rows。根据不同的输入步长num_row，将分割出来的数据放入到data_rows中\n",
    "data_rows=[训练数据(num_row)，训练数据的验证(长度为56)]\n",
    "输入的数据为归一化处理过后的训练集，以及输入步长'''\n",
    "def input_size(data_nor, num_row, rows):#输出为定长56，而输入长度可以改变，为num_rows\n",
    "    train_data_rows = []\n",
    "    test_data_rows = []\n",
    "\n",
    "    for row in range(0,rows):\n",
    "        train_data_row = []\n",
    "        test_data_row = []\n",
    "        for line in range(0,735):\n",
    "            count=line\n",
    "            data_row_train = []\n",
    "            data_row_test = []\n",
    "\n",
    "            if line + num_row + 56 - 1 == 735: #如果输入输出步长加上起始位置超过最大列下标，则推出本行循环\n",
    "                break\n",
    "\n",
    "            while True:\n",
    "                if count  < line+num_row:\n",
    "                    data_row_train.append(data_nor[row][count]) #将每一行的各列的数据放入data_row_train中\n",
    "                    count += 1\n",
    "\n",
    "                elif count >= line+num_row and count<line+num_row+56:#如果count大于等于输入步长且小于输入加输出步长，则输入到data_row_test中\n",
    "                    data_row_test.append(data_nor[row][count])\n",
    "                    count += 1\n",
    "                \n",
    "                elif count == line+num_row+56: #如果输入输出步长加上起始位置超过最大列下标，则推出本行循环\n",
    "                    break\n",
    "\n",
    "            train_data_row.append(data_row_train)\n",
    "            test_data_row.append(data_row_test)\n",
    "\n",
    "        train_data_rows.append(train_data_row)\n",
    "        test_data_rows.append(test_data_row)\n",
    "\n",
    "    return np.array(train_data_rows), np.array(test_data_rows)\n",
    "    "
   ]
  },
  {
   "cell_type": "code",
   "execution_count": 8,
   "metadata": {},
   "outputs": [],
   "source": [
    "'''得到不同输入步长的训练集合,training_data_input_x的维度为(行数（111），每一行划分成了多少个训练样本/测试样本集合，输入步长)'''\n",
    "training_data_input_56, train_data_output_56 = input_size(train_data_rows_nor, 56, 81)\n",
    "dev_data_input_56, dev_data_output_56 = input_size(dev_data_rows_nor, 56, 30)\n",
    "\n",
    "training_data_input_112, train_data_output_112 = input_size(train_data_rows_nor, 112, 81)\n",
    "dev_data_input_112, dev_data_output_112 = input_size(dev_data_rows_nor, 112, 30)\n",
    "\n",
    "training_data_input_679, train_data_output_679 = input_size(train_data_rows_nor, 679, 81)\n",
    "dev_data_input_679, dev_data_output_679 = input_size(dev_data_rows_nor, 679, 30)"
   ]
  },
  {
   "cell_type": "code",
   "execution_count": 9,
   "metadata": {},
   "outputs": [],
   "source": [
    "'''pytorch搭建mlp模型'''\n",
    "class NeuralNetwork(nn.Module):\n",
    "    def __init__(self, input_size=679):    #输入步长默认为679\n",
    "        super(NeuralNetwork,self).__init__()\n",
    "        self.input_size = input_size\n",
    "        self.linear_relu_stack = nn.Sequential(\n",
    "            nn.Linear(input_size,128),\n",
    "            nn.ReLU(),\n",
    "            nn.Linear(128,32),\n",
    "            nn.ReLU(),\n",
    "            nn.Linear(32,56)\n",
    "        )\n",
    "    #forward和init函数要对齐，否则报错NotImplementedError\n",
    "    def forward(self, x):\n",
    "        logits = self.linear_relu_stack(x)\n",
    "        return logits"
   ]
  },
  {
   "cell_type": "code",
   "execution_count": 10,
   "metadata": {},
   "outputs": [],
   "source": [
    "'''将数据转化为tensor'''\n",
    "train_input_56, train_output_56 = torch.tensor(training_data_input_56), torch.tensor(train_data_output_56)\n",
    "train_input_112, train_output_112 = torch.tensor(training_data_input_112), torch.tensor(train_data_output_112)\n",
    "train_input_679, train_output_679 = torch.tensor(training_data_input_679), torch.tensor(train_data_output_679)\n",
    "\n",
    "'''将数据转化为tensor'''\n",
    "dev_input_56, dev_output_56 = torch.tensor(dev_data_input_56), torch.tensor(dev_data_output_56)\n",
    "dev_input_112, dev_output_112 = torch.tensor(dev_data_input_112), torch.tensor(dev_data_output_112)\n",
    "dev_input_679, dev_output_679 = torch.tensor(dev_data_input_679), torch.tensor(dev_data_output_679)\n",
    "\n"
   ]
  },
  {
   "cell_type": "code",
   "execution_count": 11,
   "metadata": {},
   "outputs": [],
   "source": [
    "'''初始化模型，定义损失函数和优化方法'''\n",
    "model_56 = NeuralNetwork(56).to(device)\n",
    "model_112 = NeuralNetwork(112).to(device)\n",
    "model_679 = NeuralNetwork(679).to(device)\n",
    "\n",
    "loss_MSE = nn.MSELoss()#定义损失函数MSE\n",
    "loss_MAE = nn.L1Loss()#定义损失函数MAE\n",
    "\n",
    "optimizer_56 = torch.optim.SGD(model_56.parameters(), lr=1e-3)  #记住这里也要改模型的名字model_56.parameters()\n",
    "optimizer_112 = torch.optim.SGD(model_112.parameters(), lr=1e-3)  #记住这里也要改模型的名字model_56.parameters()\n",
    "optimizer_679 = torch.optim.SGD(model_679.parameters(), lr=1e-3)  #记住这里也要改模型的名字model_56.parameters()"
   ]
  },
  {
   "cell_type": "code",
   "execution_count": 12,
   "metadata": {},
   "outputs": [],
   "source": [
    "'''计算训练集和验证集各行的最大值和最小值'''\n",
    "train_max = np.max(train_data_rows, axis = 1).reshape(train_data_rows.shape[0],1)  #axis = 1 找每行最大的 ,reshape到规范的(行数，1)才能进行repeat\n",
    "train_min = np.min(train_data_rows, axis = 1).reshape(train_data_rows.shape[0],1) \n",
    "\n",
    "#train_max_repeat =  np.repeat(train_max, train_output_56.shape[1], axis=1)#将training_max扩展为(81行, 每行有多少个输入输出对，1)\n",
    "#training_max = torch.tensor(train_max_repeat).view(train_output_56.shape[0],train_output_56.shape[1], 1)  #将train_max_repeat转化为tonsor形式,并且形状要加上去掉的最后1维保持能与train_output一起运算\n",
    "#print(training_max.shape)\n",
    "\n",
    "dev_max = np.max(dev_data_rows, axis = 1).reshape(dev_data_rows.shape[0],1)\n",
    "dev_min = np.min(dev_data_rows, axis = 1).reshape(dev_data_rows.shape[0],1)"
   ]
  },
  {
   "cell_type": "code",
   "execution_count": 13,
   "metadata": {},
   "outputs": [],
   "source": [
    "'''sMAPE精确度指标'''\n",
    "def sMAPE(pred, y):\n",
    "    n = pred.shape[0] * pred.shape[1]  #各个维度相乘，计算一共有多少个元素   （81*56个元素）\n",
    "    sum = abs(pred-y)/(abs(pred+y)/2)\n",
    "    acc = torch.sum(sum)/n #将所有元素相加\n",
    "    return acc*100\n",
    "    \n",
    "'''将归一化的数据恢复成原本的数据'''\n",
    "def reverse_normalizationdata(data,max,min):\n",
    "    range = max - min\n",
    "    return torch.mul(data, range)+min"
   ]
  },
  {
   "cell_type": "code",
   "execution_count": 14,
   "metadata": {},
   "outputs": [],
   "source": [
    "'''计算训练集本身的sMAPE指标\n",
    "输入训练集作为标签的那一部分数据，预测的prediction，'''\n",
    "def cal_sMAPE_train(train_output, prediction, train_max, train_min, input_size):\n",
    "\n",
    "    training_max = torch.tensor(train_max).view(train_max.shape[0],1)\n",
    "    training_min = torch.tensor(train_min).view(train_min.shape[0],1)\n",
    "    \n",
    "    #train_max_repeat =  np.repeat(train_max, train_output.shape[1], axis=1) #将training_max扩展为(81行, 每行有多少个输入输出对，1)\n",
    "    #training_max = torch.tensor(train_max_repeat).view(train_output.shape[0],1,1)  #将train_max_repeat转化为tonsor形式,并且形状要加上去掉的最后1维保持能与train_output匹配维度一起运算\n",
    "\n",
    "    #train_min_repeat =  np.repeat(train_min, train_output.shape[1], axis=1) #将training_max扩展为(81行, 每行有多少个输入输出对，1)\n",
    "    #training_min = torch.tensor(train_min_repeat).view(train_output.shape[0],1,1)  #将train_max_repeat转化为tonsor形式,并且形状要加上去掉的最后1维保持能与train_output匹配维度一起运算\n",
    "\n",
    "    pred = reverse_normalizationdata(prediction, training_max, training_min)  \n",
    "    y = reverse_normalizationdata(train_output, training_max, training_min)\n",
    "\n",
    "    acc = sMAPE(pred, y)\n",
    "\n",
    "    print(\"输入步长为\"+str(input_size)+\"的训练集/验证集上的sMAPE指标：\"+str(acc.item())) #item可以只保留数字\n",
    "\n",
    "    return acc"
   ]
  },
  {
   "cell_type": "code",
   "execution_count": 15,
   "metadata": {},
   "outputs": [],
   "source": [
    "'''训练函数,输入为train_input_xx和train_output_xx,输入步长等'''\n",
    "def train(X_datas, y_datas, input_size, model, loss_def, optimizer, epochs):\n",
    "    rows = X_datas.shape[0]\n",
    "    nums = X_datas.shape[1]\n",
    "    model.train() #启用batch normalization和drop out,如果有\n",
    "\n",
    "    losses = []\n",
    "    iterations = []\n",
    "\n",
    "    for epoch in range(epochs):\n",
    "        for row in range(rows):  \n",
    "            num = 0\n",
    "            while num<nums:\n",
    "                X = X_datas[row][num]\n",
    "                y = y_datas[row][num]\n",
    "                X, y = X.to(device), y.to(device)\n",
    "\n",
    "                num += input_size+56  #不对重复的数据进行迭代训练\n",
    "\n",
    "                pred = model(X)#预测值\n",
    "                loss = loss_def(pred, y)#损失计算\n",
    "\n",
    "                optimizer.zero_grad()#后向传播\n",
    "                loss.backward()\n",
    "                optimizer.step()\n",
    "\n",
    "                loss = loss.item()\n",
    "\n",
    "        if epoch%50 == 0:\n",
    "            print(\"the loss of epoch \"+ str(epoch) + \" is: \" + str(loss))\n",
    "            losses.append(loss)\n",
    "            iterations.append(epoch)\n",
    "\n",
    "    prediction = model(X_datas.to(device))\n",
    "\n",
    "\n",
    "    plt.figure()\n",
    "    plt.title(\"loss of epochs per 50————————the input size: \"+str(input_size)+\"    the loss is: \" + str(loss_def))\n",
    "    plt.xlabel(\"epoch per 50\")\n",
    "    plt.ylabel(\"loss\")\n",
    "    plt.plot(iterations,losses)\n",
    "    \n",
    "    plt.show()\n",
    "\n",
    "    return prediction.to('cpu')"
   ]
  },
  {
   "cell_type": "code",
   "execution_count": 152,
   "metadata": {},
   "outputs": [
    {
     "name": "stdout",
     "output_type": "stream",
     "text": [
      "the loss of epoch 0 is: 0.021858777850866318\n",
      "the loss of epoch 50 is: 0.005560289602726698\n",
      "the loss of epoch 100 is: 0.00774857634678483\n",
      "the loss of epoch 150 is: 0.00832087267190218\n",
      "the loss of epoch 200 is: 0.008123626001179218\n",
      "the loss of epoch 250 is: 0.007789138238877058\n",
      "the loss of epoch 300 is: 0.007429839111864567\n",
      "the loss of epoch 350 is: 0.007064324337989092\n",
      "the loss of epoch 400 is: 0.006704321596771479\n",
      "the loss of epoch 450 is: 0.006350675132125616\n"
     ]
    },
    {
     "data": {
      "image/png": "[encoded data removed]",
      "text/plain": [
       "<Figure size 432x288 with 1 Axes>"
      ]
     },
     "metadata": {
      "needs_background": "light"
     },
     "output_type": "display_data"
    },
    {
     "name": "stdout",
     "output_type": "stream",
     "text": [
      "输入步长为56的训练集/验证集上的sMAPE指标：27.160154363206363\n"
     ]
    }
   ],
   "source": [
    "'''输入步长56，利用训练集训练模型，并计算训练集自身的sMAPE值\n",
    "由于如果所有的包含重叠的数据进行预测，运算很大，并且sMAPE也会很大，即如果对1，2，3，4，8，6，2进行1个输入1个输出的预测，就要对1，2；2，3；3，4；；4，8；等进行预测，这样多计算的sMAPE就会使得其不稳定\n",
    "因此我们还是简单化，使用训练数据的最后一个输入输出对来进行sMAPE的计算\n",
    "\n",
    "MSE_SGD_输入步长56'''\n",
    "model_56_mse_sgd = NeuralNetwork(56).to(device)\n",
    "loss_MSE = nn.MSELoss()#定义损失函数MSE\n",
    "optimizer_56 = torch.optim.SGD(model_56_mse_sgd.parameters(), lr=1e-3)  #记住这里也要改模型的名字model_56.parameters()\n",
    "\n",
    "input_length = 56 \n",
    "\n",
    "#需要注意.to(torch.float32)用来将数据转化为一致的类型，否则报错\n",
    "prediction = train(train_input_56.to(torch.float32), train_output_56.to(torch.float32), 56, model_56_mse_sgd, loss_MSE, optimizer_56, 500)\n",
    "\n",
    "acc_56 = cal_sMAPE_train(train_output_56[:,[train_output_56.shape[1]-1],:].squeeze(), prediction[:,[train_output_56.shape[1]-1],:].squeeze(), train_max, train_min, 56)\n",
    "#train_output_56[:,[train_output_56.shape[1]-1],:].squeeze()表示取(81,所有输出对,输出步长)中的(81,最后一个输出，输出步长),然后将维度为1的中间那维去掉，与prediction做sMAPE"
   ]
  },
  {
   "cell_type": "code",
   "execution_count": 17,
   "metadata": {},
   "outputs": [
    {
     "name": "stdout",
     "output_type": "stream",
     "text": [
      "the loss of epoch 0 is: 0.1153334230184555\n",
      "the loss of epoch 50 is: 0.06891921907663345\n",
      "the loss of epoch 100 is: 0.05974763259291649\n",
      "the loss of epoch 150 is: 0.05129086226224899\n",
      "the loss of epoch 200 is: 0.04425344243645668\n",
      "the loss of epoch 250 is: 0.04184404015541077\n",
      "the loss of epoch 300 is: 0.04110906645655632\n",
      "the loss of epoch 350 is: 0.04118698462843895\n",
      "the loss of epoch 400 is: 0.04125823453068733\n",
      "the loss of epoch 450 is: 0.041314560920000076\n"
     ]
    },
    {
     "data": {
      "image/png": "[encoded data removed]",
      "text/plain": [
       "<Figure size 432x288 with 1 Axes>"
      ]
     },
     "metadata": {
      "needs_background": "light"
     },
     "output_type": "display_data"
    },
    {
     "name": "stdout",
     "output_type": "stream",
     "text": [
      "输入步长为56的训练集/验证集上的sMAPE指标：22.570370001901647\n"
     ]
    }
   ],
   "source": [
    "'''输入步长56——SGD——MAE'''\n",
    "model_56_mae_sgd = NeuralNetwork(56).to(device)\n",
    "loss_MAE = nn.L1Loss()#定义损失函数MSE\n",
    "optimizer_56 = torch.optim.SGD(model_56_mae_sgd.parameters(), lr=1e-3)  #记住这里也要改模型的名字model_56.parameters()\n",
    "\n",
    "input_length = 56 \n",
    "\n",
    "#需要注意.to(torch.float32)用来将数据转化为一致的类型，否则报错\n",
    "prediction = train(train_input_56.to(torch.float32), train_output_56.to(torch.float32), 56, model_56_mae_sgd, loss_MAE, optimizer_56, 500)\n",
    "\n",
    "acc_56 = cal_sMAPE_train(train_output_56[:,[train_output_56.shape[1]-1],:].squeeze(), prediction[:,[train_output_56.shape[1]-1],:].squeeze(), train_max, train_min, 56)\n",
    "#train_output_56[:,[train_output_56.shape[1]-1],:].squeeze()表示取(81,所有输出对,输出步长)中的(81,最后一个输出，输出步长),然后将维度为1的中间那维去掉，与prediction做sMAPE"
   ]
  },
  {
   "cell_type": "code",
   "execution_count": 19,
   "metadata": {},
   "outputs": [
    {
     "name": "stdout",
     "output_type": "stream",
     "text": [
      "the loss of epoch 0 is: 0.004228181205689907\n",
      "the loss of epoch 50 is: 0.0020758006721735\n",
      "the loss of epoch 100 is: 0.0014416348421946168\n",
      "the loss of epoch 150 is: 0.0016750784125179052\n",
      "the loss of epoch 200 is: 0.0013098493218421936\n",
      "the loss of epoch 250 is: 0.001709215110167861\n"
     ]
    },
    {
     "data": {
      "image/png": "[encoded data removed]",
      "text/plain": [
       "<Figure size 432x288 with 1 Axes>"
      ]
     },
     "metadata": {
      "needs_background": "light"
     },
     "output_type": "display_data"
    },
    {
     "name": "stdout",
     "output_type": "stream",
     "text": [
      "输入步长为56的训练集/验证集上的sMAPE指标：30.627265555959166\n"
     ]
    }
   ],
   "source": [
    "'''输入步长56_ADAM_MSE'''\n",
    "model_56_mse_adam = NeuralNetwork(56).to(device)\n",
    "loss_MSE = nn.MSELoss()#定义损失函数MSE\n",
    "optimizer_56 = torch.optim.Adam(model_56_mse_adam.parameters(),lr=0.001,betas=(0.9, 0.999),eps=1e-08,weight_decay=0,amsgrad=False)\n",
    "\n",
    "input_length = 56 \n",
    "\n",
    "#需要注意.to(torch.float32)用来将数据转化为一致的类型，否则报错\n",
    "prediction = train(train_input_56.to(torch.float32), train_output_56.to(torch.float32), 56, model_56_mse_adam, loss_MSE, optimizer_56, 300)\n",
    "\n",
    "acc_56 = cal_sMAPE_train(train_output_56[:,[train_output_56.shape[1]-1],:].squeeze(), prediction[:,[train_output_56.shape[1]-1],:].squeeze(), train_max, train_min, 56)\n",
    "#train_output_56[:,[train_output_56.shape[1]-1],:].squeeze()表示取(81,所有输出对,输出步长)中的(81,最后一个输出，输出步长),然后将维度为1的中间那维去掉，与prediction做sMAPE"
   ]
  },
  {
   "cell_type": "code",
   "execution_count": 153,
   "metadata": {},
   "outputs": [
    {
     "name": "stdout",
     "output_type": "stream",
     "text": [
      "the loss of epoch 0 is: 0.027382034808397293\n",
      "the loss of epoch 50 is: 0.005741129629313946\n",
      "the loss of epoch 100 is: 0.00572794396430254\n",
      "the loss of epoch 150 is: 0.006094526033848524\n",
      "the loss of epoch 200 is: 0.006012862082570791\n",
      "the loss of epoch 250 is: 0.005808950401842594\n",
      "the loss of epoch 300 is: 0.005571126937866211\n",
      "the loss of epoch 350 is: 0.0053287991322577\n",
      "the loss of epoch 400 is: 0.0050975545309484005\n",
      "the loss of epoch 450 is: 0.004876494407653809\n"
     ]
    },
    {
     "data": {
      "image/png": "[encoded data removed]",
      "text/plain": [
       "<Figure size 432x288 with 1 Axes>"
      ]
     },
     "metadata": {
      "needs_background": "light"
     },
     "output_type": "display_data"
    },
    {
     "name": "stdout",
     "output_type": "stream",
     "text": [
      "输入步长为112的训练集/验证集上的sMAPE指标：27.61446733430762\n"
     ]
    }
   ],
   "source": [
    "'''输入步长112_SGD_MSE\n",
    "利用训练集训练模型，并计算训练集自身的sMAPE值'''\n",
    "model_112_mse_sgd = NeuralNetwork(112).to(device)\n",
    "loss_MSE = nn.MSELoss()#定义损失函数MSE\n",
    "optimizer_112 = torch.optim.SGD(model_112_mse_sgd.parameters(), lr=1e-3)  #记住这里也要改模型的名字model_56.parameters()\n",
    "\n",
    "#需要注意.to(torch.float32)用来将数据转化为一致的类型，否则报错\n",
    "prediction = train(train_input_112.to(torch.float32), train_output_112.to(torch.float32), 112, model_112_mse_sgd, loss_MSE, optimizer_112, 500)\n",
    "\n",
    "acc_112 = cal_sMAPE_train(train_output_112[:,[train_output_112.shape[1]-1],:].squeeze(), prediction[:,[train_output_112.shape[1]-1],:].squeeze(), train_max, train_min, 112)"
   ]
  },
  {
   "cell_type": "code",
   "execution_count": 20,
   "metadata": {},
   "outputs": [
    {
     "name": "stdout",
     "output_type": "stream",
     "text": [
      "the loss of epoch 0 is: 0.12876032292842865\n",
      "the loss of epoch 50 is: 0.06560278683900833\n",
      "the loss of epoch 100 is: 0.05998111516237259\n",
      "the loss of epoch 150 is: 0.05340062826871872\n",
      "the loss of epoch 200 is: 0.048034586012363434\n",
      "the loss of epoch 250 is: 0.044116389006376266\n",
      "the loss of epoch 300 is: 0.041748423129320145\n",
      "the loss of epoch 350 is: 0.04094882681965828\n",
      "the loss of epoch 400 is: 0.040827248245477676\n",
      "the loss of epoch 450 is: 0.04131261631846428\n"
     ]
    },
    {
     "data": {
      "image/png": "[encoded data removed]",
      "text/plain": [
       "<Figure size 432x288 with 1 Axes>"
      ]
     },
     "metadata": {
      "needs_background": "light"
     },
     "output_type": "display_data"
    },
    {
     "name": "stdout",
     "output_type": "stream",
     "text": [
      "输入步长为112的训练集/验证集上的sMAPE指标：22.479237173322435\n"
     ]
    }
   ],
   "source": [
    "'''输入步长112_MAE_SGD'''\n",
    "model_112_mae_sgd = NeuralNetwork(112).to(device)\n",
    "loss_MAE = nn.L1Loss()#定义损失函数MSE\n",
    "optimizer_112 = torch.optim.SGD(model_112_mae_sgd.parameters(), lr=1e-3)  #记住这里也要改模型的名字model_56.parameters()\n",
    "\n",
    "#需要注意.to(torch.float32)用来将数据转化为一致的类型，否则报错\n",
    "prediction = train(train_input_112.to(torch.float32), train_output_112.to(torch.float32), 112, model_112_mae_sgd, loss_MAE, optimizer_112, 500)\n",
    "\n",
    "acc_112 = cal_sMAPE_train(train_output_112[:,[train_output_112.shape[1]-1],:].squeeze(), prediction[:,[train_output_112.shape[1]-1],:].squeeze(), train_max, train_min, 112)"
   ]
  },
  {
   "cell_type": "code",
   "execution_count": 21,
   "metadata": {},
   "outputs": [
    {
     "name": "stdout",
     "output_type": "stream",
     "text": [
      "the loss of epoch 0 is: 0.004070738796144724\n",
      "the loss of epoch 50 is: 0.001507694716565311\n",
      "the loss of epoch 100 is: 0.0014827892882749438\n",
      "the loss of epoch 150 is: 0.001504526357166469\n",
      "the loss of epoch 200 is: 0.0014398217899724841\n",
      "the loss of epoch 250 is: 0.0015402069548144937\n"
     ]
    },
    {
     "data": {
      "image/png": "[encoded data removed]",
      "text/plain": [
       "<Figure size 432x288 with 1 Axes>"
      ]
     },
     "metadata": {
      "needs_background": "light"
     },
     "output_type": "display_data"
    },
    {
     "name": "stdout",
     "output_type": "stream",
     "text": [
      "输入步长为112的训练集/验证集上的sMAPE指标：29.946752347622585\n"
     ]
    }
   ],
   "source": [
    "'''输入步长112_MSE_ADAM'''\n",
    "model_112_mse_adam = NeuralNetwork(112).to(device)\n",
    "loss_MSE = nn.MSELoss()#定义损失函数MSE\n",
    "optimizer_112 = torch.optim.Adam(model_112_mse_adam.parameters(),lr=0.001,betas=(0.9, 0.999),eps=1e-08,weight_decay=0,amsgrad=False)\n",
    "\n",
    "#需要注意.to(torch.float32)用来将数据转化为一致的类型，否则报错\n",
    "prediction = train(train_input_112.to(torch.float32), train_output_112.to(torch.float32), 112, model_112_mse_adam, loss_MSE, optimizer_112, 300)\n",
    "\n",
    "acc_112 = cal_sMAPE_train(train_output_112[:,[train_output_112.shape[1]-1],:].squeeze(), prediction[:,[train_output_112.shape[1]-1],:].squeeze(), train_max, train_min, 112)"
   ]
  },
  {
   "cell_type": "code",
   "execution_count": 154,
   "metadata": {},
   "outputs": [
    {
     "name": "stdout",
     "output_type": "stream",
     "text": [
      "the loss of epoch 0 is: 0.021549642086029053\n",
      "the loss of epoch 50 is: 0.012720318511128426\n",
      "the loss of epoch 100 is: 0.007498071063309908\n",
      "the loss of epoch 150 is: 0.004576957318931818\n",
      "the loss of epoch 200 is: 0.0033489104826003313\n",
      "the loss of epoch 250 is: 0.003142022993415594\n",
      "the loss of epoch 300 is: 0.0033642579801380634\n",
      "the loss of epoch 350 is: 0.0036743038799613714\n",
      "the loss of epoch 400 is: 0.003939430695027113\n",
      "the loss of epoch 450 is: 0.004126734100282192\n"
     ]
    },
    {
     "data": {
      "image/png": "[encoded data removed]",
      "text/plain": [
       "<Figure size 432x288 with 1 Axes>"
      ]
     },
     "metadata": {
      "needs_background": "light"
     },
     "output_type": "display_data"
    },
    {
     "name": "stdout",
     "output_type": "stream",
     "text": [
      "输入步长为679的训练集/验证集上的sMAPE指标：25.396278391854942\n"
     ]
    }
   ],
   "source": [
    "'''输入步长679，利用训练集训练模型，并计算训练集自身的sMAPE值'''\n",
    "model_679_mse_sgd = NeuralNetwork(679).to(device)\n",
    "loss_MSE = nn.MSELoss()#定义损失函数MSE\n",
    "optimizer_679 = torch.optim.SGD(model_679_mse_sgd.parameters(), lr=1e-3)  #记住这里也要改模型的名字model_56.parameters()\n",
    "\n",
    "#需要注意.to(torch.float32)用来将数据转化为一致的类型，否则报错\n",
    "prediction = train(train_input_679.to(torch.float32), train_output_679.to(torch.float32), 679, model_679_mse_sgd, loss_MSE, optimizer_679, 500)\n",
    "\n",
    "acc_679 = cal_sMAPE_train(train_output_679[:,[train_output_679.shape[1]-1],:].squeeze(), prediction[:,[train_output_679.shape[1]-1],:].squeeze(), train_max, train_min, 679)"
   ]
  },
  {
   "cell_type": "code",
   "execution_count": 22,
   "metadata": {},
   "outputs": [
    {
     "name": "stdout",
     "output_type": "stream",
     "text": [
      "the loss of epoch 0 is: 0.12030184268951416\n",
      "the loss of epoch 50 is: 0.06456144899129868\n",
      "the loss of epoch 100 is: 0.046186089515686035\n",
      "the loss of epoch 150 is: 0.04358677938580513\n",
      "the loss of epoch 200 is: 0.04083686321973801\n",
      "the loss of epoch 250 is: 0.03800925984978676\n",
      "the loss of epoch 300 is: 0.03529734164476395\n",
      "the loss of epoch 350 is: 0.03283338621258736\n",
      "the loss of epoch 400 is: 0.030510619282722473\n",
      "the loss of epoch 450 is: 0.028332756832242012\n"
     ]
    },
    {
     "data": {
      "image/png": "[encoded data removed]",
      "text/plain": [
       "<Figure size 432x288 with 1 Axes>"
      ]
     },
     "metadata": {
      "needs_background": "light"
     },
     "output_type": "display_data"
    },
    {
     "name": "stdout",
     "output_type": "stream",
     "text": [
      "输入步长为679的训练集/验证集上的sMAPE指标：21.46000327410959\n"
     ]
    }
   ],
   "source": [
    "'''输入步长679_MAE_SGD'''\n",
    "model_679_mae_sgd = NeuralNetwork(679).to(device)\n",
    "loss_MAE = nn.L1Loss()#定义损失函数MSE\n",
    "optimizer_679 = torch.optim.SGD(model_679_mae_sgd.parameters(), lr=1e-3)  #记住这里也要改模型的名字model_56.parameters()\n",
    "\n",
    "#需要注意.to(torch.float32)用来将数据转化为一致的类型，否则报错\n",
    "prediction = train(train_input_679.to(torch.float32), train_output_679.to(torch.float32), 679, model_679_mae_sgd, loss_MAE, optimizer_679, 500)\n",
    "\n",
    "acc_679 = cal_sMAPE_train(train_output_679[:,[train_output_679.shape[1]-1],:].squeeze(), prediction[:,[train_output_679.shape[1]-1],:].squeeze(), train_max, train_min, 679)"
   ]
  },
  {
   "cell_type": "code",
   "execution_count": 23,
   "metadata": {},
   "outputs": [
    {
     "name": "stdout",
     "output_type": "stream",
     "text": [
      "the loss of epoch 0 is: 0.0043336255475878716\n",
      "the loss of epoch 50 is: 0.0004490639839787036\n",
      "the loss of epoch 100 is: 0.0006184006342664361\n",
      "the loss of epoch 150 is: 0.0003199840721208602\n",
      "the loss of epoch 200 is: 0.0004387007502373308\n",
      "the loss of epoch 250 is: 0.00033982566674239933\n"
     ]
    },
    {
     "data": {
      "image/png": "[encoded data removed]",
      "text/plain": [
       "<Figure size 432x288 with 1 Axes>"
      ]
     },
     "metadata": {
      "needs_background": "light"
     },
     "output_type": "display_data"
    },
    {
     "name": "stdout",
     "output_type": "stream",
     "text": [
      "输入步长为679的训练集/验证集上的sMAPE指标：15.504088380312089\n"
     ]
    }
   ],
   "source": [
    "'''输入步长679_MSE_ADAM'''\n",
    "model_679_mse_adam = NeuralNetwork(679).to(device)\n",
    "loss_MSE = nn.MSELoss()#定义损失函数MSE\n",
    "optimizer_679 = torch.optim.Adam(model_679_mse_adam.parameters(),lr=0.001,betas=(0.9, 0.999),eps=1e-08,weight_decay=0,amsgrad=False)\n",
    "\n",
    "#需要注意.to(torch.float32)用来将数据转化为一致的类型，否则报错\n",
    "prediction = train(train_input_679.to(torch.float32), train_output_679.to(torch.float32), 679, model_679_mse_adam, loss_MSE, optimizer_679, 300)\n",
    "\n",
    "acc_679 = cal_sMAPE_train(train_output_679[:,[train_output_679.shape[1]-1],:].squeeze(), prediction[:,[train_output_679.shape[1]-1],:].squeeze(), train_max, train_min, 679)"
   ]
  },
  {
   "cell_type": "markdown",
   "metadata": {},
   "source": [
    "以下为利用训练集训练模型，计算验证集dev的sMAPE。\n",
    "经过实验，我发现上面的计算方法确实会让sMAPE虚高，因此3种输入步长对验证集和训练集的sMAPE的计算，让最后一个输入序列输入模型中得到预测值，然后和与之对应的输出对计算sMAPE。我对比了三种输入长度的两种不同方法，SGD和ADAM；MSE和MAE"
   ]
  },
  {
   "cell_type": "code",
   "execution_count": 182,
   "metadata": {},
   "outputs": [
    {
     "name": "stdout",
     "output_type": "stream",
     "text": [
      "输入步长为56的训练集/验证集上的sMAPE指标：28.640501576859773\n"
     ]
    }
   ],
   "source": [
    "'''输入步长56——SGD——MSE'''\n",
    "#需要注意.to(torch.float32)用来将数据转化为一致的类型，否则报错\n",
    "prediction = model_56_mse_sgd(dev_input_56.to(torch.float32).to(device))\n",
    "\n",
    "acc_56 = cal_sMAPE_train(dev_output_56[:,[dev_output_56.shape[1]-1],:].squeeze(), prediction[:,[dev_output_56.shape[1]-1],:].squeeze(), dev_max, dev_min, 56)"
   ]
  },
  {
   "cell_type": "code",
   "execution_count": 24,
   "metadata": {},
   "outputs": [
    {
     "name": "stdout",
     "output_type": "stream",
     "text": [
      "输入步长为56的训练集/验证集上的sMAPE指标：26.978578151944788\n"
     ]
    }
   ],
   "source": [
    "'''输入步长56——SGD——MAE'''\n",
    "#需要注意.to(torch.float32)用来将数据转化为一致的类型，否则报错\n",
    "prediction = model_56_mae_sgd(dev_input_56.to(torch.float32).to(device))\n",
    "\n",
    "acc_56 = cal_sMAPE_train(dev_output_56[:,[dev_output_56.shape[1]-1],:].squeeze(), prediction[:,[dev_output_56.shape[1]-1],:].squeeze(), dev_max, dev_min, 56)"
   ]
  },
  {
   "cell_type": "code",
   "execution_count": 25,
   "metadata": {},
   "outputs": [
    {
     "name": "stdout",
     "output_type": "stream",
     "text": [
      "输入步长为56的训练集/验证集上的sMAPE指标：53.50699849264944\n"
     ]
    }
   ],
   "source": [
    "'''输入步长56——ADAM——MSE'''\n",
    "#需要注意.to(torch.float32)用来将数据转化为一致的类型，否则报错\n",
    "prediction = model_56_mse_adam(dev_input_56.to(torch.float32).to(device))\n",
    "\n",
    "acc_56 = cal_sMAPE_train(dev_output_56[:,[dev_output_56.shape[1]-1],:].squeeze(), prediction[:,[dev_output_56.shape[1]-1],:].squeeze(), dev_max, dev_min, 56)"
   ]
  },
  {
   "cell_type": "code",
   "execution_count": 184,
   "metadata": {},
   "outputs": [
    {
     "name": "stdout",
     "output_type": "stream",
     "text": [
      "输入步长为112的训练集/验证集上的sMAPE指标：28.547955449726253\n"
     ]
    }
   ],
   "source": [
    "'''输入步长112——SGD——MSE'''\n",
    "\n",
    "#需要注意.to(torch.float32)用来将数据转化为一致的类型，否则报错\n",
    "prediction = model_112_mse_sgd(dev_input_112.to(torch.float32).to(device))\n",
    "\n",
    "acc_112 = cal_sMAPE_train(dev_output_112[:,[dev_output_112.shape[1]-1],:].squeeze(), prediction[:,[dev_output_112.shape[1]-1],:].squeeze(), dev_max, dev_min, 112)"
   ]
  },
  {
   "cell_type": "code",
   "execution_count": 26,
   "metadata": {},
   "outputs": [
    {
     "name": "stdout",
     "output_type": "stream",
     "text": [
      "输入步长为112的训练集/验证集上的sMAPE指标：24.65922524268969\n"
     ]
    }
   ],
   "source": [
    "'''输入步长112——SGD——MAE'''\n",
    "\n",
    "#需要注意.to(torch.float32)用来将数据转化为一致的类型，否则报错\n",
    "prediction = model_112_mae_sgd(dev_input_112.to(torch.float32).to(device))\n",
    "\n",
    "acc_112 = cal_sMAPE_train(dev_output_112[:,[dev_output_112.shape[1]-1],:].squeeze(), prediction[:,[dev_output_112.shape[1]-1],:].squeeze(), dev_max, dev_min, 112)"
   ]
  },
  {
   "cell_type": "code",
   "execution_count": 27,
   "metadata": {},
   "outputs": [
    {
     "name": "stdout",
     "output_type": "stream",
     "text": [
      "输入步长为112的训练集/验证集上的sMAPE指标：31.11703909404807\n"
     ]
    }
   ],
   "source": [
    "'''输入步长112——ADAM——MSE'''\n",
    "\n",
    "#需要注意.to(torch.float32)用来将数据转化为一致的类型，否则报错\n",
    "prediction = model_112_mse_adam(dev_input_112.to(torch.float32).to(device))\n",
    "\n",
    "acc_112 = cal_sMAPE_train(dev_output_112[:,[dev_output_112.shape[1]-1],:].squeeze(), prediction[:,[dev_output_112.shape[1]-1],:].squeeze(), dev_max, dev_min, 112)"
   ]
  },
  {
   "cell_type": "code",
   "execution_count": 185,
   "metadata": {},
   "outputs": [
    {
     "name": "stdout",
     "output_type": "stream",
     "text": [
      "输入步长为679的训练集/验证集上的sMAPE指标：27.656739887773803\n"
     ]
    }
   ],
   "source": [
    "'''输入步长679——SGD——MSE'''\n",
    "#需要注意.to(torch.float32)用来将数据转化为一致的类型，否则报错\n",
    "prediction = model_679_mse_sgd(dev_input_679.to(torch.float32).to(device))#利用dev的输入预测\n",
    "\n",
    "acc_679 = cal_sMAPE_train(dev_output_679[:,[dev_output_679.shape[1]-1],:].squeeze(), prediction[:,[dev_output_679.shape[1]-1],:].squeeze(), dev_max, dev_min, 679)"
   ]
  },
  {
   "cell_type": "code",
   "execution_count": 29,
   "metadata": {},
   "outputs": [
    {
     "name": "stdout",
     "output_type": "stream",
     "text": [
      "输入步长为679的训练集/验证集上的sMAPE指标：24.629717296877278\n"
     ]
    }
   ],
   "source": [
    "'''输入步长679——SGD——MAE'''\n",
    "#需要注意.to(torch.float32)用来将数据转化为一致的类型，否则报错\n",
    "prediction = model_679_mae_sgd(dev_input_679.to(torch.float32).to(device))#利用dev的输入预测\n",
    "\n",
    "acc_679 = cal_sMAPE_train(dev_output_679[:,[dev_output_679.shape[1]-1],:].squeeze(), prediction[:,[dev_output_679.shape[1]-1],:].squeeze(), dev_max, dev_min, 679)"
   ]
  },
  {
   "cell_type": "code",
   "execution_count": 31,
   "metadata": {},
   "outputs": [
    {
     "name": "stdout",
     "output_type": "stream",
     "text": [
      "输入步长为679的训练集/验证集上的sMAPE指标：22.631216668130538\n"
     ]
    }
   ],
   "source": [
    "'''输入步长679——ADAM——MSE'''\n",
    "#需要注意.to(torch.float32)用来将数据转化为一致的类型，否则报错\n",
    "prediction = model_679_mse_adam(dev_input_679.to(torch.float32).to(device))#利用dev的输入预测\n",
    "\n",
    "acc_679 = cal_sMAPE_train(dev_output_679[:,[dev_output_679.shape[1]-1],:].squeeze(), prediction[:,[dev_output_679.shape[1]-1],:].squeeze(), dev_max, dev_min, 679)"
   ]
  }
 ],
 "metadata": {
  "interpreter": {
   "hash": "33dc6d49505b4536b6a128d9d7c879e1fa44477ad44947bbbe73093067fe6393"
  },
  "kernelspec": {
   "display_name": "Python 3.9.5 64-bit",
   "language": "python",
   "name": "python3"
  },
  "language_info": {
   "codemirror_mode": {
    "name": "ipython",
    "version": 3
   },
   "file_extension": ".py",
   "mimetype": "text/x-python",
   "name": "python",
   "nbconvert_exporter": "python",
   "pygments_lexer": "ipython3",
   "version": "3.8.12"
  },
  "orig_nbformat": 4
 },
 "nbformat": 4,
 "nbformat_minor": 2
}
